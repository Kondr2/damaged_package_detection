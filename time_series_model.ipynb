{
 "cells": [
  {
   "cell_type": "code",
   "execution_count": 2,
   "metadata": {},
   "outputs": [],
   "source": [
    "import os\n",
    "import copy\n",
    "import cv2\n",
    "import random\n",
    "import shutil\n",
    "import torch\n",
    "import torchvision\n",
    "import IPython\n",
    "import json\n",
    "\n",
    "import numpy as np\n",
    "import pandas as pd\n",
    "import plotly.graph_objects as go\n",
    "import torch.nn as nn\n",
    "import torch.nn.functional as F\n",
    "import torchvision.transforms as transforms\n",
    "import matplotlib.pyplot as plt\n",
    "import albumentations as A\n",
    "\n",
    "from albumentations.pytorch import ToTensorV2\n",
    "from PIL import Image\n",
    "from plotly.subplots import make_subplots\n",
    "from tqdm.notebook import tqdm\n",
    "from torchvision.models import resnet50, ResNet50_Weights\n",
    "from torchmetrics.classification import BinaryAccuracy, BinaryConfusionMatrix, BinaryPrecision, BinaryRecall, BinaryF1Score\n",
    "from IPython.display import clear_output\n",
    "from sklearn.model_selection import train_test_split\n",
    "from tqdm.notebook import trange\n",
    "from math import ceil\n",
    "from glob import glob\n",
    "\n",
    "%matplotlib inline"
   ]
  },
  {
   "cell_type": "code",
   "execution_count": 3,
   "metadata": {},
   "outputs": [],
   "source": [
    "device = torch.device('cuda:5') if torch.cuda.is_available() else torch.device('cpu')"
   ]
  },
  {
   "cell_type": "markdown",
   "metadata": {},
   "source": [
    "----"
   ]
  },
  {
   "cell_type": "markdown",
   "metadata": {},
   "source": [
    "### Model"
   ]
  },
  {
   "cell_type": "code",
   "execution_count": 4,
   "metadata": {},
   "outputs": [],
   "source": [
    "class TimeDistributed(nn.Module):\n",
    "    def __init__(self, module):\n",
    "        super(TimeDistributed, self).__init__()\n",
    "        self.module = module\n",
    "\n",
    "    def forward(self, x):\n",
    "        if len(x.size()) <= 2:\n",
    "            return self.module(x)\n",
    "\n",
    "        x_reshape = x.contiguous().view(-1, x.size(-1))\n",
    "\n",
    "        y = self.module(x_reshape)\n",
    "        y = y.contiguous().view(x.size(0), -1, y.size(-1))\n",
    "        return y"
   ]
  },
  {
   "cell_type": "code",
   "execution_count": 5,
   "metadata": {},
   "outputs": [],
   "source": [
    "class ImageEmbender(nn.Module):\n",
    "    def __init__(self, emb_dim, need_freeze=False):\n",
    "        super(ImageEmbender, self).__init__()\n",
    "\n",
    "        resnet = resnet50(weights=ResNet50_Weights.DEFAULT)\n",
    "        resnet.fc = nn.Linear(in_features=2048, out_features=emb_dim, bias=True)\n",
    "        \n",
    "        if need_freeze:\n",
    "            for param in resnet.parameters():\n",
    "                param.requires_grad = False\n",
    "\n",
    "        self.resnet = resnet\n",
    "    \n",
    "    def forward(self, x):\n",
    "        x = self.resnet(x)\n",
    "        return x\n",
    "\n",
    "\n",
    "class TimeSeriesImageEncoder(nn.Module):\n",
    "    def __init__(self, emb_dim, hidden_dim, n_layers, bidirectional, dropout):\n",
    "        super(TimeSeriesImageEncoder, self).__init__()\n",
    "\n",
    "        self.lstm = nn.LSTM(emb_dim,\n",
    "                            hidden_dim,\n",
    "                            num_layers=n_layers,\n",
    "                            bidirectional=bidirectional,\n",
    "                            dropout=dropout,\n",
    "                            batch_first=True\n",
    "                           )\n",
    "    \n",
    "    def forward(self, x):\n",
    "        output, (hn, cn) = self.lstm(x)\n",
    "        return output[:, -1, :]\n",
    "\n",
    "\n",
    "class ClussifictionHead(nn.Module):\n",
    "    def __init__(self, n_classes, input_dim, hidden_dim):\n",
    "        super(ClussifictionHead, self).__init__()\n",
    "\n",
    "        self.model = nn.Sequential(\n",
    "            nn.Linear(input_dim, hidden_dim),\n",
    "            nn.LeakyReLU(),\n",
    "            nn.Linear(hidden_dim, hidden_dim),\n",
    "            nn.LeakyReLU(),\n",
    "            nn.Linear(hidden_dim, n_classes)\n",
    "        )\n",
    "    \n",
    "    def forward(self, x):\n",
    "        x = self.model(x)\n",
    "        return x\n"
   ]
  },
  {
   "cell_type": "code",
   "execution_count": 6,
   "metadata": {},
   "outputs": [],
   "source": [
    "class TimeSeriesImagesClassificationModel(nn.Module):\n",
    "    def __init__(self, emb_size, need_freeze_resnet, \n",
    "                enc_hid_dim, enc_n_layers, \n",
    "                enc_bidirectional, enc_dropout,\n",
    "                dec_hid_dim, n_classes):\n",
    "        super().__init__()\n",
    "        \n",
    "        self.embedding = ImageEmbender(\n",
    "                                    emb_size, \n",
    "                                    need_freeze_resnet\n",
    "                                    )\n",
    "        \n",
    "\n",
    "        self.encoder = TimeSeriesImageEncoder(\n",
    "                                    emb_size, \n",
    "                                    enc_hid_dim,\n",
    "                                    enc_n_layers, \n",
    "                                    enc_bidirectional, \n",
    "                                    enc_dropout\n",
    "                                    )\n",
    "\n",
    "        self.decoder = ClussifictionHead(\n",
    "                                    n_classes,  \n",
    "                                    enc_hid_dim, \n",
    "                                    dec_hid_dim\n",
    "                                    )\n",
    "    \n",
    "    def forward(self, x):\n",
    "\n",
    "        embs = []\n",
    "        for i in range(x.shape[1]):\n",
    "            embs.append(self.embedding(x[:, i, :, :].squeeze(1)))\n",
    "        emb_out = torch.stack(embs, axis=1)\n",
    "\n",
    "        enc_out = self.encoder(emb_out)\n",
    "        dec_out = self.decoder(enc_out)\n",
    "        return dec_out\n",
    "        "
   ]
  },
  {
   "cell_type": "code",
   "execution_count": 7,
   "metadata": {},
   "outputs": [
    {
     "name": "stderr",
     "output_type": "stream",
     "text": [
      "/home/vladimirmrzv/anaconda3/lib/python3.9/site-packages/torch/nn/modules/rnn.py:62: UserWarning: dropout option adds dropout after all but last recurrent layer, so non-zero dropout expects num_layers greater than 1, but got dropout=0.1 and num_layers=1\n",
      "  warnings.warn(\"dropout option adds dropout after all but last \"\n"
     ]
    }
   ],
   "source": [
    "test_model = TimeSeriesImagesClassificationModel(\n",
    "    emb_size=128, \n",
    "    need_freeze_resnet=False, \n",
    "    enc_hid_dim=128, \n",
    "    enc_n_layers=1, \n",
    "    enc_bidirectional=False, \n",
    "    enc_dropout=0.1,\n",
    "    dec_hid_dim=256, \n",
    "    n_classes=2\n",
    ")"
   ]
  },
  {
   "cell_type": "code",
   "execution_count": 8,
   "metadata": {},
   "outputs": [
    {
     "name": "stdout",
     "output_type": "stream",
     "text": [
      "output shape: torch.Size([16, 2])\n"
     ]
    }
   ],
   "source": [
    "test_batch = torch.randn(16, 5, 3, 608, 208)\n",
    "\n",
    "with torch.no_grad():\n",
    "    logits = test_model(test_batch)\n",
    "\n",
    "print('output shape:', logits.shape)\n",
    "assert len(logits.shape) == 2\n",
    "assert logits.shape[0] == 16\n",
    "assert logits.shape[1] == 2"
   ]
  },
  {
   "cell_type": "markdown",
   "metadata": {},
   "source": [
    "----"
   ]
  },
  {
   "cell_type": "markdown",
   "metadata": {},
   "source": [
    "### Data"
   ]
  },
  {
   "cell_type": "code",
   "execution_count": 9,
   "metadata": {},
   "outputs": [],
   "source": [
    "dataframe = pd.read_csv('./statistic_2022_12_07.csv', index_col=0)\n",
    "dataframe.columns = ['add_date', 'is_touched', 'location', 's3_link', 'scan_result',\n",
    "       'plt_dir']"
   ]
  },
  {
   "cell_type": "code",
   "execution_count": 10,
   "metadata": {},
   "outputs": [
    {
     "data": {
      "text/html": [
       "<div>\n",
       "<style scoped>\n",
       "    .dataframe tbody tr th:only-of-type {\n",
       "        vertical-align: middle;\n",
       "    }\n",
       "\n",
       "    .dataframe tbody tr th {\n",
       "        vertical-align: top;\n",
       "    }\n",
       "\n",
       "    .dataframe thead th {\n",
       "        text-align: right;\n",
       "    }\n",
       "</style>\n",
       "<table border=\"1\" class=\"dataframe\">\n",
       "  <thead>\n",
       "    <tr style=\"text-align: right;\">\n",
       "      <th></th>\n",
       "      <th>add_date</th>\n",
       "      <th>is_touched</th>\n",
       "      <th>location</th>\n",
       "      <th>s3_link</th>\n",
       "      <th>scan_result</th>\n",
       "      <th>plt_dir</th>\n",
       "    </tr>\n",
       "  </thead>\n",
       "  <tbody>\n",
       "    <tr>\n",
       "      <th>0</th>\n",
       "      <td>2022-11-08 17:54:35.250071</td>\n",
       "      <td>0</td>\n",
       "      <td>K24-28A2</td>\n",
       "      <td>https://s3.mds.yandex.net/rms-cloud/69b312b3-2...</td>\n",
       "      <td>PLT11431241</td>\n",
       "      <td>data/PLT11431241/69b312b3-237a-4321-b683-4d85c...</td>\n",
       "    </tr>\n",
       "    <tr>\n",
       "      <th>1</th>\n",
       "      <td>2022-11-18 14:19:37.885847</td>\n",
       "      <td>0</td>\n",
       "      <td>K20-39A5</td>\n",
       "      <td>https://s3.mds.yandex.net/rms-cloud/4f0f1925-b...</td>\n",
       "      <td>PLT11305829</td>\n",
       "      <td>data/PLT11305829/4f0f1925-b320-4412-b0c5-666c7...</td>\n",
       "    </tr>\n",
       "    <tr>\n",
       "      <th>2</th>\n",
       "      <td>2022-11-16 15:59:55.10835</td>\n",
       "      <td>0</td>\n",
       "      <td>K20-50C4</td>\n",
       "      <td>https://s3.mds.yandex.net/rms-cloud/25aa652f-5...</td>\n",
       "      <td>PLT11397576</td>\n",
       "      <td>data/PLT11397576/25aa652f-5ea6-40b1-9af5-8b822...</td>\n",
       "    </tr>\n",
       "    <tr>\n",
       "      <th>3</th>\n",
       "      <td>2022-12-07 17:48:12.273726</td>\n",
       "      <td>0</td>\n",
       "      <td>K32-08C5</td>\n",
       "      <td>https://s3.mds.yandex.net/rms-cloud/e6f0cdfb-8...</td>\n",
       "      <td>PLT11494693</td>\n",
       "      <td>data/PLT11494693/e6f0cdfb-8064-4dc5-a26a-068ad...</td>\n",
       "    </tr>\n",
       "    <tr>\n",
       "      <th>4</th>\n",
       "      <td>2022-11-01 12:01:39.43983</td>\n",
       "      <td>0</td>\n",
       "      <td>K22-51B3</td>\n",
       "      <td>https://s3.mds.yandex.net/rms-cloud/1bcf8213-b...</td>\n",
       "      <td>PLT11441946</td>\n",
       "      <td>data/PLT11441946/1bcf8213-bb1e-438f-8ab2-8cbe0...</td>\n",
       "    </tr>\n",
       "  </tbody>\n",
       "</table>\n",
       "</div>"
      ],
      "text/plain": [
       "                     add_date  is_touched  location  \\\n",
       "0  2022-11-08 17:54:35.250071           0  K24-28A2   \n",
       "1  2022-11-18 14:19:37.885847           0  K20-39A5   \n",
       "2   2022-11-16 15:59:55.10835           0  K20-50C4   \n",
       "3  2022-12-07 17:48:12.273726           0  K32-08C5   \n",
       "4   2022-11-01 12:01:39.43983           0  K22-51B3   \n",
       "\n",
       "                                             s3_link  scan_result  \\\n",
       "0  https://s3.mds.yandex.net/rms-cloud/69b312b3-2...  PLT11431241   \n",
       "1  https://s3.mds.yandex.net/rms-cloud/4f0f1925-b...  PLT11305829   \n",
       "2  https://s3.mds.yandex.net/rms-cloud/25aa652f-5...  PLT11397576   \n",
       "3  https://s3.mds.yandex.net/rms-cloud/e6f0cdfb-8...  PLT11494693   \n",
       "4  https://s3.mds.yandex.net/rms-cloud/1bcf8213-b...  PLT11441946   \n",
       "\n",
       "                                             plt_dir  \n",
       "0  data/PLT11431241/69b312b3-237a-4321-b683-4d85c...  \n",
       "1  data/PLT11305829/4f0f1925-b320-4412-b0c5-666c7...  \n",
       "2  data/PLT11397576/25aa652f-5ea6-40b1-9af5-8b822...  \n",
       "3  data/PLT11494693/e6f0cdfb-8064-4dc5-a26a-068ad...  \n",
       "4  data/PLT11441946/1bcf8213-bb1e-438f-8ab2-8cbe0...  "
      ]
     },
     "execution_count": 10,
     "metadata": {},
     "output_type": "execute_result"
    }
   ],
   "source": [
    "dataframe.head()"
   ]
  },
  {
   "cell_type": "markdown",
   "metadata": {},
   "source": [
    "#### Избавимся от нет монотонности is_touched"
   ]
  },
  {
   "cell_type": "code",
   "execution_count": 11,
   "metadata": {},
   "outputs": [
    {
     "data": {
      "application/vnd.jupyter.widget-view+json": {
       "model_id": "6b18699334a44d1eb0896b3940264038",
       "version_major": 2,
       "version_minor": 0
      },
      "text/plain": [
       "  0%|          | 0/6530 [00:00<?, ?it/s]"
      ]
     },
     "metadata": {},
     "output_type": "display_data"
    }
   ],
   "source": [
    "dataframe['is_noisy_label'] = 0\n",
    "\n",
    "deltas = []\n",
    "cnt_reversed = 0\n",
    "bad_palletes = []\n",
    "for plts in tqdm(sorted(set(dataframe['scan_result']))):\n",
    "    subs = dataframe[dataframe['scan_result'] == plts]\n",
    "    if sum(subs['is_touched']):\n",
    "        touched_loc = set(subs[subs['is_touched'] == 1]['location'])\n",
    "        dataframe.loc[(dataframe['scan_result'] == plts) & (dataframe['is_touched'] == 0) & (~dataframe['location'].isin(touched_loc)), 'is_noisy_label'] = 1\n",
    "        dataframe.loc[(dataframe['scan_result'] == plts) & (dataframe['is_touched'] == 0) & (dataframe['location'].isin(touched_loc)), 'is_noisy_label'] = 2"
   ]
  },
  {
   "cell_type": "code",
   "execution_count": 12,
   "metadata": {},
   "outputs": [],
   "source": [
    "dataframe = dataframe[dataframe['is_noisy_label'] != 1]"
   ]
  },
  {
   "cell_type": "code",
   "execution_count": 13,
   "metadata": {},
   "outputs": [],
   "source": [
    "class PackageDataset(torch.utils.data.Dataset):\n",
    "    def __init__(self, dataset, transform, n_ts=5):\n",
    "        self.dataset = dataset\n",
    "        self.transform = transform\n",
    "        self.n_ts = n_ts\n",
    "\n",
    "        self.plts = list(dataset['scan_result'].unique())\n",
    "    \n",
    "    def __len__(self):\n",
    "        return len(self.plts)\n",
    "    \n",
    "    def __getitem__(self, idx):\n",
    "        plt_info = self.dataset[self.dataset['scan_result'] == self.plts[idx]]\n",
    "        plt_info = plt_info.sort_values(['add_date'])\n",
    "\n",
    "        n_ts = min(self.n_ts, len(plt_info))\n",
    "        idxs = np.random.choice(range(len(plt_info)), self.n_ts)\n",
    "\n",
    "        imgs_jpeg_path = list(self.dataset.iloc[idxs]['plt_dir'])\n",
    "        is_touched = list(self.dataset.iloc[idxs]['is_touched'])[-1]\n",
    "        \n",
    "        images = []\n",
    "        for img_jpeg_path in imgs_jpeg_path:\n",
    "            image = np.array(Image.open(img_jpeg_path))\n",
    "            if self.transform is not None:\n",
    "                transformed = self.transform(image=image)\n",
    "                image = transformed['image']\n",
    "\n",
    "            images.append(image)\n",
    "        \n",
    "        images = torch.stack(images, axis=0)\n",
    "\n",
    "        return {'images': images, 'targets': is_touched}"
   ]
  },
  {
   "cell_type": "code",
   "execution_count": 14,
   "metadata": {},
   "outputs": [],
   "source": [
    "test_transform = A.Compose(\n",
    "    [\n",
    "        A.Normalize(mean=(0.485, 0.456, 0.406), std=(0.229, 0.224, 0.225)), \n",
    "        A.Resize(width=208, height=608),\n",
    "        ToTensorV2()\n",
    "    ]\n",
    ")\n",
    "\n",
    "train_transform = A.Compose(\n",
    "    [\n",
    "        A.HorizontalFlip(p=0.5),\n",
    "        A.Resize(width=208, height=608),\n",
    "        A.Normalize(mean=(0.485, 0.456, 0.406), std=(0.229, 0.224, 0.225)),\n",
    "        ToTensorV2(),\n",
    "    ]\n",
    ")"
   ]
  },
  {
   "cell_type": "code",
   "execution_count": 15,
   "metadata": {},
   "outputs": [
    {
     "name": "stdout",
     "output_type": "stream",
     "text": [
      "torch.Size([5, 3, 608, 208])\n"
     ]
    }
   ],
   "source": [
    "test_dataset = PackageDataset(dataframe, train_transform)\n",
    "\n",
    "print(test_dataset[1]['images'].shape)\n",
    "assert len(test_dataset[1]['images'].shape) == 4"
   ]
  },
  {
   "cell_type": "markdown",
   "metadata": {},
   "source": [
    "----"
   ]
  },
  {
   "cell_type": "markdown",
   "metadata": {},
   "source": [
    "### Разбивка данных, тестирование"
   ]
  },
  {
   "cell_type": "code",
   "execution_count": 16,
   "metadata": {},
   "outputs": [
    {
     "data": {
      "text/plain": [
       "3.722775417010211"
      ]
     },
     "execution_count": 16,
     "metadata": {},
     "output_type": "execute_result"
    }
   ],
   "source": [
    "plts = np.unique(dataframe['scan_result'])\n",
    "train_pallets, test_pallets = train_test_split(plts, test_size=0.2, random_state=42)\n",
    "\n",
    "data_train, data_test = dataframe.loc[dataframe['scan_result'].isin(train_pallets)], dataframe.loc[dataframe['scan_result'].isin(test_pallets)]\n",
    "len(data_train) / len(data_test)"
   ]
  },
  {
   "cell_type": "code",
   "execution_count": 17,
   "metadata": {},
   "outputs": [
    {
     "data": {
      "text/html": [
       "<div>\n",
       "<style scoped>\n",
       "    .dataframe tbody tr th:only-of-type {\n",
       "        vertical-align: middle;\n",
       "    }\n",
       "\n",
       "    .dataframe tbody tr th {\n",
       "        vertical-align: top;\n",
       "    }\n",
       "\n",
       "    .dataframe thead th {\n",
       "        text-align: right;\n",
       "    }\n",
       "</style>\n",
       "<table border=\"1\" class=\"dataframe\">\n",
       "  <thead>\n",
       "    <tr style=\"text-align: right;\">\n",
       "      <th></th>\n",
       "      <th>add_date</th>\n",
       "      <th>is_touched</th>\n",
       "      <th>location</th>\n",
       "      <th>s3_link</th>\n",
       "      <th>scan_result</th>\n",
       "      <th>plt_dir</th>\n",
       "      <th>is_noisy_label</th>\n",
       "    </tr>\n",
       "  </thead>\n",
       "  <tbody>\n",
       "    <tr>\n",
       "      <th>0</th>\n",
       "      <td>2022-11-08 17:54:35.250071</td>\n",
       "      <td>0</td>\n",
       "      <td>K24-28A2</td>\n",
       "      <td>https://s3.mds.yandex.net/rms-cloud/69b312b3-2...</td>\n",
       "      <td>PLT11431241</td>\n",
       "      <td>data/PLT11431241/69b312b3-237a-4321-b683-4d85c...</td>\n",
       "      <td>0</td>\n",
       "    </tr>\n",
       "    <tr>\n",
       "      <th>1</th>\n",
       "      <td>2022-11-18 14:19:37.885847</td>\n",
       "      <td>0</td>\n",
       "      <td>K20-39A5</td>\n",
       "      <td>https://s3.mds.yandex.net/rms-cloud/4f0f1925-b...</td>\n",
       "      <td>PLT11305829</td>\n",
       "      <td>data/PLT11305829/4f0f1925-b320-4412-b0c5-666c7...</td>\n",
       "      <td>0</td>\n",
       "    </tr>\n",
       "    <tr>\n",
       "      <th>2</th>\n",
       "      <td>2022-11-16 15:59:55.10835</td>\n",
       "      <td>0</td>\n",
       "      <td>K20-50C4</td>\n",
       "      <td>https://s3.mds.yandex.net/rms-cloud/25aa652f-5...</td>\n",
       "      <td>PLT11397576</td>\n",
       "      <td>data/PLT11397576/25aa652f-5ea6-40b1-9af5-8b822...</td>\n",
       "      <td>0</td>\n",
       "    </tr>\n",
       "    <tr>\n",
       "      <th>3</th>\n",
       "      <td>2022-12-07 17:48:12.273726</td>\n",
       "      <td>0</td>\n",
       "      <td>K32-08C5</td>\n",
       "      <td>https://s3.mds.yandex.net/rms-cloud/e6f0cdfb-8...</td>\n",
       "      <td>PLT11494693</td>\n",
       "      <td>data/PLT11494693/e6f0cdfb-8064-4dc5-a26a-068ad...</td>\n",
       "      <td>0</td>\n",
       "    </tr>\n",
       "    <tr>\n",
       "      <th>4</th>\n",
       "      <td>2022-11-01 12:01:39.43983</td>\n",
       "      <td>0</td>\n",
       "      <td>K22-51B3</td>\n",
       "      <td>https://s3.mds.yandex.net/rms-cloud/1bcf8213-b...</td>\n",
       "      <td>PLT11441946</td>\n",
       "      <td>data/PLT11441946/1bcf8213-bb1e-438f-8ab2-8cbe0...</td>\n",
       "      <td>0</td>\n",
       "    </tr>\n",
       "  </tbody>\n",
       "</table>\n",
       "</div>"
      ],
      "text/plain": [
       "                     add_date  is_touched  location  \\\n",
       "0  2022-11-08 17:54:35.250071           0  K24-28A2   \n",
       "1  2022-11-18 14:19:37.885847           0  K20-39A5   \n",
       "2   2022-11-16 15:59:55.10835           0  K20-50C4   \n",
       "3  2022-12-07 17:48:12.273726           0  K32-08C5   \n",
       "4   2022-11-01 12:01:39.43983           0  K22-51B3   \n",
       "\n",
       "                                             s3_link  scan_result  \\\n",
       "0  https://s3.mds.yandex.net/rms-cloud/69b312b3-2...  PLT11431241   \n",
       "1  https://s3.mds.yandex.net/rms-cloud/4f0f1925-b...  PLT11305829   \n",
       "2  https://s3.mds.yandex.net/rms-cloud/25aa652f-5...  PLT11397576   \n",
       "3  https://s3.mds.yandex.net/rms-cloud/e6f0cdfb-8...  PLT11494693   \n",
       "4  https://s3.mds.yandex.net/rms-cloud/1bcf8213-b...  PLT11441946   \n",
       "\n",
       "                                             plt_dir  is_noisy_label  \n",
       "0  data/PLT11431241/69b312b3-237a-4321-b683-4d85c...               0  \n",
       "1  data/PLT11305829/4f0f1925-b320-4412-b0c5-666c7...               0  \n",
       "2  data/PLT11397576/25aa652f-5ea6-40b1-9af5-8b822...               0  \n",
       "3  data/PLT11494693/e6f0cdfb-8064-4dc5-a26a-068ad...               0  \n",
       "4  data/PLT11441946/1bcf8213-bb1e-438f-8ab2-8cbe0...               0  "
      ]
     },
     "execution_count": 17,
     "metadata": {},
     "output_type": "execute_result"
    }
   ],
   "source": [
    "data_train.head()"
   ]
  },
  {
   "cell_type": "code",
   "execution_count": 18,
   "metadata": {},
   "outputs": [],
   "source": [
    "train_dataset = PackageDataset(data_train, train_transform)\n",
    "\n",
    "test_dataset = PackageDataset(data_test, test_transform)"
   ]
  },
  {
   "cell_type": "code",
   "execution_count": 19,
   "metadata": {},
   "outputs": [],
   "source": [
    "train_dataloader = torch.utils.data.DataLoader(\n",
    "    train_dataset, shuffle=True,\n",
    "    batch_size=16, num_workers=1\n",
    ")\n",
    "\n",
    "val_dataloader = torch.utils.data.DataLoader(\n",
    "    test_dataset, shuffle=False,\n",
    "    batch_size=16, num_workers=1\n",
    ")"
   ]
  },
  {
   "cell_type": "code",
   "execution_count": 20,
   "metadata": {},
   "outputs": [
    {
     "data": {
      "text/html": [
       "<div>\n",
       "<style scoped>\n",
       "    .dataframe tbody tr th:only-of-type {\n",
       "        vertical-align: middle;\n",
       "    }\n",
       "\n",
       "    .dataframe tbody tr th {\n",
       "        vertical-align: top;\n",
       "    }\n",
       "\n",
       "    .dataframe thead th {\n",
       "        text-align: right;\n",
       "    }\n",
       "</style>\n",
       "<table border=\"1\" class=\"dataframe\">\n",
       "  <thead>\n",
       "    <tr style=\"text-align: right;\">\n",
       "      <th></th>\n",
       "      <th>add_date</th>\n",
       "      <th>is_touched</th>\n",
       "      <th>location</th>\n",
       "      <th>s3_link</th>\n",
       "      <th>scan_result</th>\n",
       "      <th>plt_dir</th>\n",
       "      <th>is_noisy_label</th>\n",
       "    </tr>\n",
       "  </thead>\n",
       "  <tbody>\n",
       "    <tr>\n",
       "      <th>15</th>\n",
       "      <td>2022-12-01 15:13:39.533238</td>\n",
       "      <td>0</td>\n",
       "      <td>K22-20B3</td>\n",
       "      <td>https://s3.mds.yandex.net/rms-cloud/980f25f7-1...</td>\n",
       "      <td>PLT11269629</td>\n",
       "      <td>data/PLT11269629/980f25f7-1179-45dd-8061-c2f7a...</td>\n",
       "      <td>0</td>\n",
       "    </tr>\n",
       "    <tr>\n",
       "      <th>17</th>\n",
       "      <td>2022-11-09 14:15:49.543392</td>\n",
       "      <td>0</td>\n",
       "      <td>K30-48B2</td>\n",
       "      <td>https://s3.mds.yandex.net/rms-cloud/b837bc1f-6...</td>\n",
       "      <td>PLT11279910</td>\n",
       "      <td>data/PLT11279910/b837bc1f-60a0-4f4b-9d1d-95945...</td>\n",
       "      <td>0</td>\n",
       "    </tr>\n",
       "    <tr>\n",
       "      <th>20</th>\n",
       "      <td>2022-10-28 11:23:28.245883</td>\n",
       "      <td>0</td>\n",
       "      <td>K20-46A3</td>\n",
       "      <td>https://s3.mds.yandex.net/rms-cloud/76a9f663-9...</td>\n",
       "      <td>PLT11298783</td>\n",
       "      <td>data/PLT11298783/76a9f663-95f5-4989-a465-4a653...</td>\n",
       "      <td>0</td>\n",
       "    </tr>\n",
       "    <tr>\n",
       "      <th>22</th>\n",
       "      <td>2022-10-31 11:27:44.944692</td>\n",
       "      <td>0</td>\n",
       "      <td>K22-14A3</td>\n",
       "      <td>https://s3.mds.yandex.net/rms-cloud/67024eb7-5...</td>\n",
       "      <td>PLT11314936</td>\n",
       "      <td>data/PLT11314936/67024eb7-5771-43f8-978b-e4e79...</td>\n",
       "      <td>0</td>\n",
       "    </tr>\n",
       "    <tr>\n",
       "      <th>29</th>\n",
       "      <td>2022-11-15 14:00:11.569384</td>\n",
       "      <td>0</td>\n",
       "      <td>K19-43C4</td>\n",
       "      <td>https://s3.mds.yandex.net/rms-cloud/3450a89e-5...</td>\n",
       "      <td>PLT11247221</td>\n",
       "      <td>data/PLT11247221/3450a89e-5376-44bd-be22-a4033...</td>\n",
       "      <td>0</td>\n",
       "    </tr>\n",
       "    <tr>\n",
       "      <th>...</th>\n",
       "      <td>...</td>\n",
       "      <td>...</td>\n",
       "      <td>...</td>\n",
       "      <td>...</td>\n",
       "      <td>...</td>\n",
       "      <td>...</td>\n",
       "      <td>...</td>\n",
       "    </tr>\n",
       "    <tr>\n",
       "      <th>76345</th>\n",
       "      <td>2022-11-08 15:12:09.636193</td>\n",
       "      <td>0</td>\n",
       "      <td>K21-48A5</td>\n",
       "      <td>https://s3.mds.yandex.net/rms-cloud/be164a89-2...</td>\n",
       "      <td>PLT11445920</td>\n",
       "      <td>data/PLT11445920/be164a89-258c-45ab-b370-30439...</td>\n",
       "      <td>0</td>\n",
       "    </tr>\n",
       "    <tr>\n",
       "      <th>76350</th>\n",
       "      <td>2022-12-01 12:29:03.306582</td>\n",
       "      <td>1</td>\n",
       "      <td>K33-02C2</td>\n",
       "      <td>https://s3.mds.yandex.net/rms-cloud/cb505213-2...</td>\n",
       "      <td>PLT9879030</td>\n",
       "      <td>data/PLT9879030/cb505213-2563-41b8-a1a8-96fa14...</td>\n",
       "      <td>0</td>\n",
       "    </tr>\n",
       "    <tr>\n",
       "      <th>76351</th>\n",
       "      <td>2022-11-17 17:30:07.118536</td>\n",
       "      <td>0</td>\n",
       "      <td>K20-28C3</td>\n",
       "      <td>https://s3.mds.yandex.net/rms-cloud/67240edd-a...</td>\n",
       "      <td>PLT11437353</td>\n",
       "      <td>data/PLT11437353/67240edd-a809-44a6-a180-f85cd...</td>\n",
       "      <td>0</td>\n",
       "    </tr>\n",
       "    <tr>\n",
       "      <th>76353</th>\n",
       "      <td>2022-12-01 11:53:11.565986</td>\n",
       "      <td>0</td>\n",
       "      <td>K20-51C6</td>\n",
       "      <td>https://s3.mds.yandex.net/rms-cloud/fe213616-8...</td>\n",
       "      <td>PLT11484262</td>\n",
       "      <td>data/PLT11484262/fe213616-82d5-4dc7-b0c7-dee0b...</td>\n",
       "      <td>0</td>\n",
       "    </tr>\n",
       "    <tr>\n",
       "      <th>76354</th>\n",
       "      <td>2022-12-01 11:53:11.624938</td>\n",
       "      <td>0</td>\n",
       "      <td>K19-51C5</td>\n",
       "      <td>https://s3.mds.yandex.net/rms-cloud/494bd9b2-0...</td>\n",
       "      <td>PLT11442783</td>\n",
       "      <td>data/PLT11442783/494bd9b2-00c2-476c-9715-aab81...</td>\n",
       "      <td>0</td>\n",
       "    </tr>\n",
       "  </tbody>\n",
       "</table>\n",
       "<p>15767 rows × 7 columns</p>\n",
       "</div>"
      ],
      "text/plain": [
       "                         add_date  is_touched  location  \\\n",
       "15     2022-12-01 15:13:39.533238           0  K22-20B3   \n",
       "17     2022-11-09 14:15:49.543392           0  K30-48B2   \n",
       "20     2022-10-28 11:23:28.245883           0  K20-46A3   \n",
       "22     2022-10-31 11:27:44.944692           0  K22-14A3   \n",
       "29     2022-11-15 14:00:11.569384           0  K19-43C4   \n",
       "...                           ...         ...       ...   \n",
       "76345  2022-11-08 15:12:09.636193           0  K21-48A5   \n",
       "76350  2022-12-01 12:29:03.306582           1  K33-02C2   \n",
       "76351  2022-11-17 17:30:07.118536           0  K20-28C3   \n",
       "76353  2022-12-01 11:53:11.565986           0  K20-51C6   \n",
       "76354  2022-12-01 11:53:11.624938           0  K19-51C5   \n",
       "\n",
       "                                                 s3_link  scan_result  \\\n",
       "15     https://s3.mds.yandex.net/rms-cloud/980f25f7-1...  PLT11269629   \n",
       "17     https://s3.mds.yandex.net/rms-cloud/b837bc1f-6...  PLT11279910   \n",
       "20     https://s3.mds.yandex.net/rms-cloud/76a9f663-9...  PLT11298783   \n",
       "22     https://s3.mds.yandex.net/rms-cloud/67024eb7-5...  PLT11314936   \n",
       "29     https://s3.mds.yandex.net/rms-cloud/3450a89e-5...  PLT11247221   \n",
       "...                                                  ...          ...   \n",
       "76345  https://s3.mds.yandex.net/rms-cloud/be164a89-2...  PLT11445920   \n",
       "76350  https://s3.mds.yandex.net/rms-cloud/cb505213-2...   PLT9879030   \n",
       "76351  https://s3.mds.yandex.net/rms-cloud/67240edd-a...  PLT11437353   \n",
       "76353  https://s3.mds.yandex.net/rms-cloud/fe213616-8...  PLT11484262   \n",
       "76354  https://s3.mds.yandex.net/rms-cloud/494bd9b2-0...  PLT11442783   \n",
       "\n",
       "                                                 plt_dir  is_noisy_label  \n",
       "15     data/PLT11269629/980f25f7-1179-45dd-8061-c2f7a...               0  \n",
       "17     data/PLT11279910/b837bc1f-60a0-4f4b-9d1d-95945...               0  \n",
       "20     data/PLT11298783/76a9f663-95f5-4989-a465-4a653...               0  \n",
       "22     data/PLT11314936/67024eb7-5771-43f8-978b-e4e79...               0  \n",
       "29     data/PLT11247221/3450a89e-5376-44bd-be22-a4033...               0  \n",
       "...                                                  ...             ...  \n",
       "76345  data/PLT11445920/be164a89-258c-45ab-b370-30439...               0  \n",
       "76350  data/PLT9879030/cb505213-2563-41b8-a1a8-96fa14...               0  \n",
       "76351  data/PLT11437353/67240edd-a809-44a6-a180-f85cd...               0  \n",
       "76353  data/PLT11484262/fe213616-82d5-4dc7-b0c7-dee0b...               0  \n",
       "76354  data/PLT11442783/494bd9b2-00c2-476c-9715-aab81...               0  \n",
       "\n",
       "[15767 rows x 7 columns]"
      ]
     },
     "execution_count": 20,
     "metadata": {},
     "output_type": "execute_result"
    }
   ],
   "source": [
    "data_test"
   ]
  },
  {
   "cell_type": "code",
   "execution_count": 21,
   "metadata": {},
   "outputs": [],
   "source": [
    "for batch in val_dataloader:\n",
    "    batch\n",
    "    with torch.no_grad():\n",
    "        logits = test_model(batch['images'])\n",
    "    break"
   ]
  },
  {
   "cell_type": "markdown",
   "metadata": {},
   "source": [
    "----"
   ]
  },
  {
   "cell_type": "markdown",
   "metadata": {},
   "source": [
    "### Обучение"
   ]
  },
  {
   "cell_type": "code",
   "execution_count": 22,
   "metadata": {},
   "outputs": [],
   "source": [
    "def train_loop(model, train_loader, criterion, optimizer):\n",
    "    train_loss = num_samples = 0.0\n",
    "    sigmoid = nn.Sigmoid()\n",
    "    for batch in tqdm(train_loader):\n",
    "        batch_pred = model(batch['images'].to(device))\n",
    "        batch_pred = batch_pred.squeeze(-1)\n",
    "        loss = criterion(sigmoid(batch_pred), batch['targets'].to(device).float())\n",
    "\n",
    "        num_samples += len(batch_pred)\n",
    "        train_loss += loss.item()\n",
    "        \n",
    "        optimizer.zero_grad()\n",
    "        loss.backward()\n",
    "        torch.nn.utils.clip_grad_norm_(model.parameters(), 0.5)\n",
    "        optimizer.step()\n",
    "            \n",
    "    train_loss = train_loss / num_samples\n",
    "    return model, optimizer, train_loss"
   ]
  },
  {
   "cell_type": "code",
   "execution_count": 23,
   "metadata": {},
   "outputs": [],
   "source": [
    "def test_loop(model, val_loader, criterion, metrics):\n",
    "    sigmoid = nn.Sigmoid()\n",
    "    with torch.no_grad():\n",
    "        logs_num = 0\n",
    "        val_losses = 0.0\n",
    "        accuracy = []\n",
    "        precision = []\n",
    "        recall = []\n",
    "        f1_score = []\n",
    "        confusion_matrix = torch.zeros((2, 2))\n",
    "        \n",
    "        for batch in tqdm(val_loader):\n",
    "            preds = model(batch['images'].to(device))\n",
    "            preds = sigmoid(preds.squeeze(-1))\n",
    "            target = batch['targets'].to(device)\n",
    "\n",
    "            # compute loss\n",
    "            #\n",
    "            loss = criterion(preds, batch['targets'].to(device).float())\n",
    "            val_losses += loss.item()\n",
    "\n",
    "            # compute metrics\n",
    "            #\n",
    "            accuracy.append(metrics['accuracy'](preds, target).cpu())\n",
    "            precision.append(metrics['precision'](preds, target).cpu())\n",
    "            recall.append(metrics['recall'](preds, target).cpu())\n",
    "            f1_score.append(metrics['f1_score'](preds, target).cpu())\n",
    "            confusion_matrix += metrics['confusion_matrix'](preds, target).cpu()\n",
    "\n",
    "            logs_num += len(target)\n",
    "\n",
    "    return val_losses / logs_num, np.mean(accuracy), np.mean(precision), np.mean(recall), np.mean(f1_score), confusion_matrix"
   ]
  },
  {
   "cell_type": "code",
   "execution_count": 24,
   "metadata": {},
   "outputs": [],
   "source": [
    "def learning_loop(model, optimizer, train_loader, val_loader, \n",
    "                loss_fn, metrics, epochs=10):\n",
    "\n",
    "    plot_result = {\n",
    "        'train_loss': [], \n",
    "        'test_loss': [],\n",
    "        'accuracy': [],\n",
    "        'precision': [],\n",
    "        'recall': [],\n",
    "        'f1_score': [],\n",
    "        'confusion_matrix': []\n",
    "    }\n",
    "\n",
    "    best_recall = float('inf')\n",
    "    best_model = None\n",
    "\n",
    "    for epoch in range(1, epochs+1):\n",
    "        # train\n",
    "        #\n",
    "        print(f'#{epoch}/{epochs}:')\n",
    "        model, optimizer, train_loss = train_loop(model, train_loader, loss_fn, optimizer)\n",
    "        plot_result['train_loss'].append(train_loss)\n",
    "\n",
    "        # test\n",
    "        #\n",
    "        test_losses, accuracy, precision, recall, f1_score, confusion_matrix = test_loop(model, val_loader, loss_fn, metrics)\n",
    "        plot_result['test_loss'].append(test_losses)\n",
    "        plot_result['accuracy'] += [accuracy]\n",
    "        plot_result['precision'] += [precision]\n",
    "        plot_result['recall'] += [recall]\n",
    "        plot_result['f1_score'] += [f1_score]\n",
    "        plot_result['confusion_matrix'] += [confusion_matrix]\n",
    "\n",
    "\n",
    "        if recall < best_recall:\n",
    "            best_recall = recall\n",
    "            best_model = copy.deepcopy(model)\n",
    "\n",
    "        # plot\n",
    "        #\n",
    "        clear_output(True)\n",
    "       \n",
    "        fig = make_subplots(rows=3, cols=2)\n",
    "\n",
    "        for idx, (key, value) in enumerate(plot_result.items()):\n",
    "\n",
    "            if key == 'confusion_matrix':\n",
    "                print('Confusion Matrix:')\n",
    "                for matrix in value:\n",
    "                    cnfs_mtrx = '''\n",
    "                    TP = {0}; FN = {1}\n",
    "                    FP = {2}; TN = {3}\n",
    "                    '''\n",
    "                    cnfs_mtrx = cnfs_mtrx.format(matrix[1, 1], matrix[1, 0], matrix[0, 1], matrix[0, 0])\n",
    "                    print(cnfs_mtrx)\n",
    "                continue\n",
    "\n",
    "            fig.add_trace(\n",
    "                go.Scatter(y=value, name=key),\n",
    "                row=idx // 2 + 1, col= idx % 2 + 1\n",
    "            )\n",
    "\n",
    "        fig.update_layout(height=600, width=800, title_text=f'#{epoch}/{epochs}:')\n",
    "        fig.show()\n",
    "    \n",
    "    return model, optimizer, plot_result"
   ]
  },
  {
   "cell_type": "code",
   "execution_count": 25,
   "metadata": {},
   "outputs": [],
   "source": [
    "def create_model_and_optimizer(net, lr=1e-4, beta1=0.9, beta2=0.999, device=device):\n",
    "    model = net.to(device)\n",
    "\n",
    "    optimizer = torch.optim.Adam(model.parameters(), lr, [beta1, beta2])\n",
    "    return model, optimizer"
   ]
  },
  {
   "cell_type": "code",
   "execution_count": 26,
   "metadata": {},
   "outputs": [
    {
     "name": "stderr",
     "output_type": "stream",
     "text": [
      "/home/vladimirmrzv/anaconda3/lib/python3.9/site-packages/torch/nn/modules/rnn.py:62: UserWarning: dropout option adds dropout after all but last recurrent layer, so non-zero dropout expects num_layers greater than 1, but got dropout=0.1 and num_layers=1\n",
      "  warnings.warn(\"dropout option adds dropout after all but last \"\n"
     ]
    }
   ],
   "source": [
    "metrics = {\n",
    "    'accuracy': BinaryAccuracy().to(device),\n",
    "    'precision': BinaryPrecision().to(device),\n",
    "    'recall': BinaryRecall().to(device),\n",
    "    'f1_score': BinaryF1Score().to(device),\n",
    "    'confusion_matrix': BinaryConfusionMatrix().to(device)\n",
    "}\n",
    "loss_fn = nn.BCELoss()\n",
    "\n",
    "model = TimeSeriesImagesClassificationModel(\n",
    "    emb_size=128, \n",
    "    need_freeze_resnet=False, \n",
    "    enc_hid_dim=128, \n",
    "    enc_n_layers=1, \n",
    "    enc_bidirectional=False, \n",
    "    enc_dropout=0.1,\n",
    "    dec_hid_dim=256, \n",
    "    n_classes=1\n",
    ")\n",
    "\n",
    "model, optimizer_model = create_model_and_optimizer(model)"
   ]
  },
  {
   "cell_type": "code",
   "execution_count": 27,
   "metadata": {},
   "outputs": [
    {
     "name": "stdout",
     "output_type": "stream",
     "text": [
      "Confusion Matrix:\n",
      "\n",
      "                    TP = 0.0; FN = 22.0\n",
      "                    FP = 9.0; TN = 1275.0\n",
      "                    \n",
      "\n",
      "                    TP = 0.0; FN = 24.0\n",
      "                    FP = 0.0; TN = 1282.0\n",
      "                    \n",
      "\n",
      "                    TP = 2.0; FN = 16.0\n",
      "                    FP = 17.0; TN = 1271.0\n",
      "                    \n",
      "\n",
      "                    TP = 0.0; FN = 20.0\n",
      "                    FP = 0.0; TN = 1286.0\n",
      "                    \n",
      "\n",
      "                    TP = 0.0; FN = 23.0\n",
      "                    FP = 10.0; TN = 1273.0\n",
      "                    \n"
     ]
    },
    {
     "data": {
      "application/vnd.plotly.v1+json": {
       "config": {
        "plotlyServerURL": "https://plot.ly"
       },
       "data": [
        {
         "name": "train_loss",
         "type": "scatter",
         "xaxis": "x",
         "y": [
          0.006340687933996679,
          0.00104939197688782,
          0.000937877111843255,
          0.0003543121496951644,
          0.0003117538378972516
         ],
         "yaxis": "y"
        },
        {
         "name": "test_loss",
         "type": "scatter",
         "xaxis": "x2",
         "y": [
          0.009051649319355634,
          0.00862028133226177,
          0.007670852893486541,
          0.009827868021828258,
          0.012629654276509581
         ],
         "yaxis": "y2"
        },
        {
         "name": "accuracy",
         "type": "scatter",
         "xaxis": "x3",
         "y": [
          0.9763719439506531,
          0.9817073345184326,
          0.9748475551605225,
          0.9847561120986938,
          0.9748475551605225
         ],
         "yaxis": "y3"
        },
        {
         "name": "precision",
         "type": "scatter",
         "xaxis": "x4",
         "y": [
          0,
          0,
          0.024390242993831635,
          0,
          0
         ],
         "yaxis": "y4"
        },
        {
         "name": "recall",
         "type": "scatter",
         "xaxis": "x5",
         "y": [
          0,
          0,
          0.007113821804523468,
          0,
          0
         ],
         "yaxis": "y5"
        },
        {
         "name": "f1_score",
         "type": "scatter",
         "xaxis": "x6",
         "y": [
          0,
          0,
          0.01097560953348875,
          0,
          0
         ],
         "yaxis": "y6"
        }
       ],
       "layout": {
        "height": 600,
        "template": {
         "data": {
          "bar": [
           {
            "error_x": {
             "color": "#2a3f5f"
            },
            "error_y": {
             "color": "#2a3f5f"
            },
            "marker": {
             "line": {
              "color": "#E5ECF6",
              "width": 0.5
             },
             "pattern": {
              "fillmode": "overlay",
              "size": 10,
              "solidity": 0.2
             }
            },
            "type": "bar"
           }
          ],
          "barpolar": [
           {
            "marker": {
             "line": {
              "color": "#E5ECF6",
              "width": 0.5
             },
             "pattern": {
              "fillmode": "overlay",
              "size": 10,
              "solidity": 0.2
             }
            },
            "type": "barpolar"
           }
          ],
          "carpet": [
           {
            "aaxis": {
             "endlinecolor": "#2a3f5f",
             "gridcolor": "white",
             "linecolor": "white",
             "minorgridcolor": "white",
             "startlinecolor": "#2a3f5f"
            },
            "baxis": {
             "endlinecolor": "#2a3f5f",
             "gridcolor": "white",
             "linecolor": "white",
             "minorgridcolor": "white",
             "startlinecolor": "#2a3f5f"
            },
            "type": "carpet"
           }
          ],
          "choropleth": [
           {
            "colorbar": {
             "outlinewidth": 0,
             "ticks": ""
            },
            "type": "choropleth"
           }
          ],
          "contour": [
           {
            "colorbar": {
             "outlinewidth": 0,
             "ticks": ""
            },
            "colorscale": [
             [
              0,
              "#0d0887"
             ],
             [
              0.1111111111111111,
              "#46039f"
             ],
             [
              0.2222222222222222,
              "#7201a8"
             ],
             [
              0.3333333333333333,
              "#9c179e"
             ],
             [
              0.4444444444444444,
              "#bd3786"
             ],
             [
              0.5555555555555556,
              "#d8576b"
             ],
             [
              0.6666666666666666,
              "#ed7953"
             ],
             [
              0.7777777777777778,
              "#fb9f3a"
             ],
             [
              0.8888888888888888,
              "#fdca26"
             ],
             [
              1,
              "#f0f921"
             ]
            ],
            "type": "contour"
           }
          ],
          "contourcarpet": [
           {
            "colorbar": {
             "outlinewidth": 0,
             "ticks": ""
            },
            "type": "contourcarpet"
           }
          ],
          "heatmap": [
           {
            "colorbar": {
             "outlinewidth": 0,
             "ticks": ""
            },
            "colorscale": [
             [
              0,
              "#0d0887"
             ],
             [
              0.1111111111111111,
              "#46039f"
             ],
             [
              0.2222222222222222,
              "#7201a8"
             ],
             [
              0.3333333333333333,
              "#9c179e"
             ],
             [
              0.4444444444444444,
              "#bd3786"
             ],
             [
              0.5555555555555556,
              "#d8576b"
             ],
             [
              0.6666666666666666,
              "#ed7953"
             ],
             [
              0.7777777777777778,
              "#fb9f3a"
             ],
             [
              0.8888888888888888,
              "#fdca26"
             ],
             [
              1,
              "#f0f921"
             ]
            ],
            "type": "heatmap"
           }
          ],
          "heatmapgl": [
           {
            "colorbar": {
             "outlinewidth": 0,
             "ticks": ""
            },
            "colorscale": [
             [
              0,
              "#0d0887"
             ],
             [
              0.1111111111111111,
              "#46039f"
             ],
             [
              0.2222222222222222,
              "#7201a8"
             ],
             [
              0.3333333333333333,
              "#9c179e"
             ],
             [
              0.4444444444444444,
              "#bd3786"
             ],
             [
              0.5555555555555556,
              "#d8576b"
             ],
             [
              0.6666666666666666,
              "#ed7953"
             ],
             [
              0.7777777777777778,
              "#fb9f3a"
             ],
             [
              0.8888888888888888,
              "#fdca26"
             ],
             [
              1,
              "#f0f921"
             ]
            ],
            "type": "heatmapgl"
           }
          ],
          "histogram": [
           {
            "marker": {
             "pattern": {
              "fillmode": "overlay",
              "size": 10,
              "solidity": 0.2
             }
            },
            "type": "histogram"
           }
          ],
          "histogram2d": [
           {
            "colorbar": {
             "outlinewidth": 0,
             "ticks": ""
            },
            "colorscale": [
             [
              0,
              "#0d0887"
             ],
             [
              0.1111111111111111,
              "#46039f"
             ],
             [
              0.2222222222222222,
              "#7201a8"
             ],
             [
              0.3333333333333333,
              "#9c179e"
             ],
             [
              0.4444444444444444,
              "#bd3786"
             ],
             [
              0.5555555555555556,
              "#d8576b"
             ],
             [
              0.6666666666666666,
              "#ed7953"
             ],
             [
              0.7777777777777778,
              "#fb9f3a"
             ],
             [
              0.8888888888888888,
              "#fdca26"
             ],
             [
              1,
              "#f0f921"
             ]
            ],
            "type": "histogram2d"
           }
          ],
          "histogram2dcontour": [
           {
            "colorbar": {
             "outlinewidth": 0,
             "ticks": ""
            },
            "colorscale": [
             [
              0,
              "#0d0887"
             ],
             [
              0.1111111111111111,
              "#46039f"
             ],
             [
              0.2222222222222222,
              "#7201a8"
             ],
             [
              0.3333333333333333,
              "#9c179e"
             ],
             [
              0.4444444444444444,
              "#bd3786"
             ],
             [
              0.5555555555555556,
              "#d8576b"
             ],
             [
              0.6666666666666666,
              "#ed7953"
             ],
             [
              0.7777777777777778,
              "#fb9f3a"
             ],
             [
              0.8888888888888888,
              "#fdca26"
             ],
             [
              1,
              "#f0f921"
             ]
            ],
            "type": "histogram2dcontour"
           }
          ],
          "mesh3d": [
           {
            "colorbar": {
             "outlinewidth": 0,
             "ticks": ""
            },
            "type": "mesh3d"
           }
          ],
          "parcoords": [
           {
            "line": {
             "colorbar": {
              "outlinewidth": 0,
              "ticks": ""
             }
            },
            "type": "parcoords"
           }
          ],
          "pie": [
           {
            "automargin": true,
            "type": "pie"
           }
          ],
          "scatter": [
           {
            "marker": {
             "colorbar": {
              "outlinewidth": 0,
              "ticks": ""
             }
            },
            "type": "scatter"
           }
          ],
          "scatter3d": [
           {
            "line": {
             "colorbar": {
              "outlinewidth": 0,
              "ticks": ""
             }
            },
            "marker": {
             "colorbar": {
              "outlinewidth": 0,
              "ticks": ""
             }
            },
            "type": "scatter3d"
           }
          ],
          "scattercarpet": [
           {
            "marker": {
             "colorbar": {
              "outlinewidth": 0,
              "ticks": ""
             }
            },
            "type": "scattercarpet"
           }
          ],
          "scattergeo": [
           {
            "marker": {
             "colorbar": {
              "outlinewidth": 0,
              "ticks": ""
             }
            },
            "type": "scattergeo"
           }
          ],
          "scattergl": [
           {
            "marker": {
             "colorbar": {
              "outlinewidth": 0,
              "ticks": ""
             }
            },
            "type": "scattergl"
           }
          ],
          "scattermapbox": [
           {
            "marker": {
             "colorbar": {
              "outlinewidth": 0,
              "ticks": ""
             }
            },
            "type": "scattermapbox"
           }
          ],
          "scatterpolar": [
           {
            "marker": {
             "colorbar": {
              "outlinewidth": 0,
              "ticks": ""
             }
            },
            "type": "scatterpolar"
           }
          ],
          "scatterpolargl": [
           {
            "marker": {
             "colorbar": {
              "outlinewidth": 0,
              "ticks": ""
             }
            },
            "type": "scatterpolargl"
           }
          ],
          "scatterternary": [
           {
            "marker": {
             "colorbar": {
              "outlinewidth": 0,
              "ticks": ""
             }
            },
            "type": "scatterternary"
           }
          ],
          "surface": [
           {
            "colorbar": {
             "outlinewidth": 0,
             "ticks": ""
            },
            "colorscale": [
             [
              0,
              "#0d0887"
             ],
             [
              0.1111111111111111,
              "#46039f"
             ],
             [
              0.2222222222222222,
              "#7201a8"
             ],
             [
              0.3333333333333333,
              "#9c179e"
             ],
             [
              0.4444444444444444,
              "#bd3786"
             ],
             [
              0.5555555555555556,
              "#d8576b"
             ],
             [
              0.6666666666666666,
              "#ed7953"
             ],
             [
              0.7777777777777778,
              "#fb9f3a"
             ],
             [
              0.8888888888888888,
              "#fdca26"
             ],
             [
              1,
              "#f0f921"
             ]
            ],
            "type": "surface"
           }
          ],
          "table": [
           {
            "cells": {
             "fill": {
              "color": "#EBF0F8"
             },
             "line": {
              "color": "white"
             }
            },
            "header": {
             "fill": {
              "color": "#C8D4E3"
             },
             "line": {
              "color": "white"
             }
            },
            "type": "table"
           }
          ]
         },
         "layout": {
          "annotationdefaults": {
           "arrowcolor": "#2a3f5f",
           "arrowhead": 0,
           "arrowwidth": 1
          },
          "autotypenumbers": "strict",
          "coloraxis": {
           "colorbar": {
            "outlinewidth": 0,
            "ticks": ""
           }
          },
          "colorscale": {
           "diverging": [
            [
             0,
             "#8e0152"
            ],
            [
             0.1,
             "#c51b7d"
            ],
            [
             0.2,
             "#de77ae"
            ],
            [
             0.3,
             "#f1b6da"
            ],
            [
             0.4,
             "#fde0ef"
            ],
            [
             0.5,
             "#f7f7f7"
            ],
            [
             0.6,
             "#e6f5d0"
            ],
            [
             0.7,
             "#b8e186"
            ],
            [
             0.8,
             "#7fbc41"
            ],
            [
             0.9,
             "#4d9221"
            ],
            [
             1,
             "#276419"
            ]
           ],
           "sequential": [
            [
             0,
             "#0d0887"
            ],
            [
             0.1111111111111111,
             "#46039f"
            ],
            [
             0.2222222222222222,
             "#7201a8"
            ],
            [
             0.3333333333333333,
             "#9c179e"
            ],
            [
             0.4444444444444444,
             "#bd3786"
            ],
            [
             0.5555555555555556,
             "#d8576b"
            ],
            [
             0.6666666666666666,
             "#ed7953"
            ],
            [
             0.7777777777777778,
             "#fb9f3a"
            ],
            [
             0.8888888888888888,
             "#fdca26"
            ],
            [
             1,
             "#f0f921"
            ]
           ],
           "sequentialminus": [
            [
             0,
             "#0d0887"
            ],
            [
             0.1111111111111111,
             "#46039f"
            ],
            [
             0.2222222222222222,
             "#7201a8"
            ],
            [
             0.3333333333333333,
             "#9c179e"
            ],
            [
             0.4444444444444444,
             "#bd3786"
            ],
            [
             0.5555555555555556,
             "#d8576b"
            ],
            [
             0.6666666666666666,
             "#ed7953"
            ],
            [
             0.7777777777777778,
             "#fb9f3a"
            ],
            [
             0.8888888888888888,
             "#fdca26"
            ],
            [
             1,
             "#f0f921"
            ]
           ]
          },
          "colorway": [
           "#636efa",
           "#EF553B",
           "#00cc96",
           "#ab63fa",
           "#FFA15A",
           "#19d3f3",
           "#FF6692",
           "#B6E880",
           "#FF97FF",
           "#FECB52"
          ],
          "font": {
           "color": "#2a3f5f"
          },
          "geo": {
           "bgcolor": "white",
           "lakecolor": "white",
           "landcolor": "#E5ECF6",
           "showlakes": true,
           "showland": true,
           "subunitcolor": "white"
          },
          "hoverlabel": {
           "align": "left"
          },
          "hovermode": "closest",
          "mapbox": {
           "style": "light"
          },
          "paper_bgcolor": "white",
          "plot_bgcolor": "#E5ECF6",
          "polar": {
           "angularaxis": {
            "gridcolor": "white",
            "linecolor": "white",
            "ticks": ""
           },
           "bgcolor": "#E5ECF6",
           "radialaxis": {
            "gridcolor": "white",
            "linecolor": "white",
            "ticks": ""
           }
          },
          "scene": {
           "xaxis": {
            "backgroundcolor": "#E5ECF6",
            "gridcolor": "white",
            "gridwidth": 2,
            "linecolor": "white",
            "showbackground": true,
            "ticks": "",
            "zerolinecolor": "white"
           },
           "yaxis": {
            "backgroundcolor": "#E5ECF6",
            "gridcolor": "white",
            "gridwidth": 2,
            "linecolor": "white",
            "showbackground": true,
            "ticks": "",
            "zerolinecolor": "white"
           },
           "zaxis": {
            "backgroundcolor": "#E5ECF6",
            "gridcolor": "white",
            "gridwidth": 2,
            "linecolor": "white",
            "showbackground": true,
            "ticks": "",
            "zerolinecolor": "white"
           }
          },
          "shapedefaults": {
           "line": {
            "color": "#2a3f5f"
           }
          },
          "ternary": {
           "aaxis": {
            "gridcolor": "white",
            "linecolor": "white",
            "ticks": ""
           },
           "baxis": {
            "gridcolor": "white",
            "linecolor": "white",
            "ticks": ""
           },
           "bgcolor": "#E5ECF6",
           "caxis": {
            "gridcolor": "white",
            "linecolor": "white",
            "ticks": ""
           }
          },
          "title": {
           "x": 0.05
          },
          "xaxis": {
           "automargin": true,
           "gridcolor": "white",
           "linecolor": "white",
           "ticks": "",
           "title": {
            "standoff": 15
           },
           "zerolinecolor": "white",
           "zerolinewidth": 2
          },
          "yaxis": {
           "automargin": true,
           "gridcolor": "white",
           "linecolor": "white",
           "ticks": "",
           "title": {
            "standoff": 15
           },
           "zerolinecolor": "white",
           "zerolinewidth": 2
          }
         }
        },
        "title": {
         "text": "#5/10:"
        },
        "width": 800,
        "xaxis": {
         "anchor": "y",
         "domain": [
          0,
          0.45
         ]
        },
        "xaxis2": {
         "anchor": "y2",
         "domain": [
          0.55,
          1
         ]
        },
        "xaxis3": {
         "anchor": "y3",
         "domain": [
          0,
          0.45
         ]
        },
        "xaxis4": {
         "anchor": "y4",
         "domain": [
          0.55,
          1
         ]
        },
        "xaxis5": {
         "anchor": "y5",
         "domain": [
          0,
          0.45
         ]
        },
        "xaxis6": {
         "anchor": "y6",
         "domain": [
          0.55,
          1
         ]
        },
        "yaxis": {
         "anchor": "x",
         "domain": [
          0.7333333333333333,
          1
         ]
        },
        "yaxis2": {
         "anchor": "x2",
         "domain": [
          0.7333333333333333,
          1
         ]
        },
        "yaxis3": {
         "anchor": "x3",
         "domain": [
          0.36666666666666664,
          0.6333333333333333
         ]
        },
        "yaxis4": {
         "anchor": "x4",
         "domain": [
          0.36666666666666664,
          0.6333333333333333
         ]
        },
        "yaxis5": {
         "anchor": "x5",
         "domain": [
          0,
          0.26666666666666666
         ]
        },
        "yaxis6": {
         "anchor": "x6",
         "domain": [
          0,
          0.26666666666666666
         ]
        }
       }
      },
      "text/html": [
       "<div>                            <div id=\"e421da28-d476-4c86-a602-001291d6a19b\" class=\"plotly-graph-div\" style=\"height:600px; width:800px;\"></div>            <script type=\"text/javascript\">                require([\"plotly\"], function(Plotly) {                    window.PLOTLYENV=window.PLOTLYENV || {};                                    if (document.getElementById(\"e421da28-d476-4c86-a602-001291d6a19b\")) {                    Plotly.newPlot(                        \"e421da28-d476-4c86-a602-001291d6a19b\",                        [{\"name\":\"train_loss\",\"y\":[0.006340687933996679,0.00104939197688782,0.000937877111843255,0.0003543121496951644,0.0003117538378972516],\"type\":\"scatter\",\"xaxis\":\"x\",\"yaxis\":\"y\"},{\"name\":\"test_loss\",\"y\":[0.009051649319355634,0.00862028133226177,0.007670852893486541,0.009827868021828258,0.012629654276509581],\"type\":\"scatter\",\"xaxis\":\"x2\",\"yaxis\":\"y2\"},{\"name\":\"accuracy\",\"y\":[0.9763719439506531,0.9817073345184326,0.9748475551605225,0.9847561120986938,0.9748475551605225],\"type\":\"scatter\",\"xaxis\":\"x3\",\"yaxis\":\"y3\"},{\"name\":\"precision\",\"y\":[0.0,0.0,0.024390242993831635,0.0,0.0],\"type\":\"scatter\",\"xaxis\":\"x4\",\"yaxis\":\"y4\"},{\"name\":\"recall\",\"y\":[0.0,0.0,0.007113821804523468,0.0,0.0],\"type\":\"scatter\",\"xaxis\":\"x5\",\"yaxis\":\"y5\"},{\"name\":\"f1_score\",\"y\":[0.0,0.0,0.01097560953348875,0.0,0.0],\"type\":\"scatter\",\"xaxis\":\"x6\",\"yaxis\":\"y6\"}],                        {\"template\":{\"data\":{\"bar\":[{\"error_x\":{\"color\":\"#2a3f5f\"},\"error_y\":{\"color\":\"#2a3f5f\"},\"marker\":{\"line\":{\"color\":\"#E5ECF6\",\"width\":0.5},\"pattern\":{\"fillmode\":\"overlay\",\"size\":10,\"solidity\":0.2}},\"type\":\"bar\"}],\"barpolar\":[{\"marker\":{\"line\":{\"color\":\"#E5ECF6\",\"width\":0.5},\"pattern\":{\"fillmode\":\"overlay\",\"size\":10,\"solidity\":0.2}},\"type\":\"barpolar\"}],\"carpet\":[{\"aaxis\":{\"endlinecolor\":\"#2a3f5f\",\"gridcolor\":\"white\",\"linecolor\":\"white\",\"minorgridcolor\":\"white\",\"startlinecolor\":\"#2a3f5f\"},\"baxis\":{\"endlinecolor\":\"#2a3f5f\",\"gridcolor\":\"white\",\"linecolor\":\"white\",\"minorgridcolor\":\"white\",\"startlinecolor\":\"#2a3f5f\"},\"type\":\"carpet\"}],\"choropleth\":[{\"colorbar\":{\"outlinewidth\":0,\"ticks\":\"\"},\"type\":\"choropleth\"}],\"contour\":[{\"colorbar\":{\"outlinewidth\":0,\"ticks\":\"\"},\"colorscale\":[[0.0,\"#0d0887\"],[0.1111111111111111,\"#46039f\"],[0.2222222222222222,\"#7201a8\"],[0.3333333333333333,\"#9c179e\"],[0.4444444444444444,\"#bd3786\"],[0.5555555555555556,\"#d8576b\"],[0.6666666666666666,\"#ed7953\"],[0.7777777777777778,\"#fb9f3a\"],[0.8888888888888888,\"#fdca26\"],[1.0,\"#f0f921\"]],\"type\":\"contour\"}],\"contourcarpet\":[{\"colorbar\":{\"outlinewidth\":0,\"ticks\":\"\"},\"type\":\"contourcarpet\"}],\"heatmap\":[{\"colorbar\":{\"outlinewidth\":0,\"ticks\":\"\"},\"colorscale\":[[0.0,\"#0d0887\"],[0.1111111111111111,\"#46039f\"],[0.2222222222222222,\"#7201a8\"],[0.3333333333333333,\"#9c179e\"],[0.4444444444444444,\"#bd3786\"],[0.5555555555555556,\"#d8576b\"],[0.6666666666666666,\"#ed7953\"],[0.7777777777777778,\"#fb9f3a\"],[0.8888888888888888,\"#fdca26\"],[1.0,\"#f0f921\"]],\"type\":\"heatmap\"}],\"heatmapgl\":[{\"colorbar\":{\"outlinewidth\":0,\"ticks\":\"\"},\"colorscale\":[[0.0,\"#0d0887\"],[0.1111111111111111,\"#46039f\"],[0.2222222222222222,\"#7201a8\"],[0.3333333333333333,\"#9c179e\"],[0.4444444444444444,\"#bd3786\"],[0.5555555555555556,\"#d8576b\"],[0.6666666666666666,\"#ed7953\"],[0.7777777777777778,\"#fb9f3a\"],[0.8888888888888888,\"#fdca26\"],[1.0,\"#f0f921\"]],\"type\":\"heatmapgl\"}],\"histogram\":[{\"marker\":{\"pattern\":{\"fillmode\":\"overlay\",\"size\":10,\"solidity\":0.2}},\"type\":\"histogram\"}],\"histogram2d\":[{\"colorbar\":{\"outlinewidth\":0,\"ticks\":\"\"},\"colorscale\":[[0.0,\"#0d0887\"],[0.1111111111111111,\"#46039f\"],[0.2222222222222222,\"#7201a8\"],[0.3333333333333333,\"#9c179e\"],[0.4444444444444444,\"#bd3786\"],[0.5555555555555556,\"#d8576b\"],[0.6666666666666666,\"#ed7953\"],[0.7777777777777778,\"#fb9f3a\"],[0.8888888888888888,\"#fdca26\"],[1.0,\"#f0f921\"]],\"type\":\"histogram2d\"}],\"histogram2dcontour\":[{\"colorbar\":{\"outlinewidth\":0,\"ticks\":\"\"},\"colorscale\":[[0.0,\"#0d0887\"],[0.1111111111111111,\"#46039f\"],[0.2222222222222222,\"#7201a8\"],[0.3333333333333333,\"#9c179e\"],[0.4444444444444444,\"#bd3786\"],[0.5555555555555556,\"#d8576b\"],[0.6666666666666666,\"#ed7953\"],[0.7777777777777778,\"#fb9f3a\"],[0.8888888888888888,\"#fdca26\"],[1.0,\"#f0f921\"]],\"type\":\"histogram2dcontour\"}],\"mesh3d\":[{\"colorbar\":{\"outlinewidth\":0,\"ticks\":\"\"},\"type\":\"mesh3d\"}],\"parcoords\":[{\"line\":{\"colorbar\":{\"outlinewidth\":0,\"ticks\":\"\"}},\"type\":\"parcoords\"}],\"pie\":[{\"automargin\":true,\"type\":\"pie\"}],\"scatter\":[{\"marker\":{\"colorbar\":{\"outlinewidth\":0,\"ticks\":\"\"}},\"type\":\"scatter\"}],\"scatter3d\":[{\"line\":{\"colorbar\":{\"outlinewidth\":0,\"ticks\":\"\"}},\"marker\":{\"colorbar\":{\"outlinewidth\":0,\"ticks\":\"\"}},\"type\":\"scatter3d\"}],\"scattercarpet\":[{\"marker\":{\"colorbar\":{\"outlinewidth\":0,\"ticks\":\"\"}},\"type\":\"scattercarpet\"}],\"scattergeo\":[{\"marker\":{\"colorbar\":{\"outlinewidth\":0,\"ticks\":\"\"}},\"type\":\"scattergeo\"}],\"scattergl\":[{\"marker\":{\"colorbar\":{\"outlinewidth\":0,\"ticks\":\"\"}},\"type\":\"scattergl\"}],\"scattermapbox\":[{\"marker\":{\"colorbar\":{\"outlinewidth\":0,\"ticks\":\"\"}},\"type\":\"scattermapbox\"}],\"scatterpolar\":[{\"marker\":{\"colorbar\":{\"outlinewidth\":0,\"ticks\":\"\"}},\"type\":\"scatterpolar\"}],\"scatterpolargl\":[{\"marker\":{\"colorbar\":{\"outlinewidth\":0,\"ticks\":\"\"}},\"type\":\"scatterpolargl\"}],\"scatterternary\":[{\"marker\":{\"colorbar\":{\"outlinewidth\":0,\"ticks\":\"\"}},\"type\":\"scatterternary\"}],\"surface\":[{\"colorbar\":{\"outlinewidth\":0,\"ticks\":\"\"},\"colorscale\":[[0.0,\"#0d0887\"],[0.1111111111111111,\"#46039f\"],[0.2222222222222222,\"#7201a8\"],[0.3333333333333333,\"#9c179e\"],[0.4444444444444444,\"#bd3786\"],[0.5555555555555556,\"#d8576b\"],[0.6666666666666666,\"#ed7953\"],[0.7777777777777778,\"#fb9f3a\"],[0.8888888888888888,\"#fdca26\"],[1.0,\"#f0f921\"]],\"type\":\"surface\"}],\"table\":[{\"cells\":{\"fill\":{\"color\":\"#EBF0F8\"},\"line\":{\"color\":\"white\"}},\"header\":{\"fill\":{\"color\":\"#C8D4E3\"},\"line\":{\"color\":\"white\"}},\"type\":\"table\"}]},\"layout\":{\"annotationdefaults\":{\"arrowcolor\":\"#2a3f5f\",\"arrowhead\":0,\"arrowwidth\":1},\"autotypenumbers\":\"strict\",\"coloraxis\":{\"colorbar\":{\"outlinewidth\":0,\"ticks\":\"\"}},\"colorscale\":{\"diverging\":[[0,\"#8e0152\"],[0.1,\"#c51b7d\"],[0.2,\"#de77ae\"],[0.3,\"#f1b6da\"],[0.4,\"#fde0ef\"],[0.5,\"#f7f7f7\"],[0.6,\"#e6f5d0\"],[0.7,\"#b8e186\"],[0.8,\"#7fbc41\"],[0.9,\"#4d9221\"],[1,\"#276419\"]],\"sequential\":[[0.0,\"#0d0887\"],[0.1111111111111111,\"#46039f\"],[0.2222222222222222,\"#7201a8\"],[0.3333333333333333,\"#9c179e\"],[0.4444444444444444,\"#bd3786\"],[0.5555555555555556,\"#d8576b\"],[0.6666666666666666,\"#ed7953\"],[0.7777777777777778,\"#fb9f3a\"],[0.8888888888888888,\"#fdca26\"],[1.0,\"#f0f921\"]],\"sequentialminus\":[[0.0,\"#0d0887\"],[0.1111111111111111,\"#46039f\"],[0.2222222222222222,\"#7201a8\"],[0.3333333333333333,\"#9c179e\"],[0.4444444444444444,\"#bd3786\"],[0.5555555555555556,\"#d8576b\"],[0.6666666666666666,\"#ed7953\"],[0.7777777777777778,\"#fb9f3a\"],[0.8888888888888888,\"#fdca26\"],[1.0,\"#f0f921\"]]},\"colorway\":[\"#636efa\",\"#EF553B\",\"#00cc96\",\"#ab63fa\",\"#FFA15A\",\"#19d3f3\",\"#FF6692\",\"#B6E880\",\"#FF97FF\",\"#FECB52\"],\"font\":{\"color\":\"#2a3f5f\"},\"geo\":{\"bgcolor\":\"white\",\"lakecolor\":\"white\",\"landcolor\":\"#E5ECF6\",\"showlakes\":true,\"showland\":true,\"subunitcolor\":\"white\"},\"hoverlabel\":{\"align\":\"left\"},\"hovermode\":\"closest\",\"mapbox\":{\"style\":\"light\"},\"paper_bgcolor\":\"white\",\"plot_bgcolor\":\"#E5ECF6\",\"polar\":{\"angularaxis\":{\"gridcolor\":\"white\",\"linecolor\":\"white\",\"ticks\":\"\"},\"bgcolor\":\"#E5ECF6\",\"radialaxis\":{\"gridcolor\":\"white\",\"linecolor\":\"white\",\"ticks\":\"\"}},\"scene\":{\"xaxis\":{\"backgroundcolor\":\"#E5ECF6\",\"gridcolor\":\"white\",\"gridwidth\":2,\"linecolor\":\"white\",\"showbackground\":true,\"ticks\":\"\",\"zerolinecolor\":\"white\"},\"yaxis\":{\"backgroundcolor\":\"#E5ECF6\",\"gridcolor\":\"white\",\"gridwidth\":2,\"linecolor\":\"white\",\"showbackground\":true,\"ticks\":\"\",\"zerolinecolor\":\"white\"},\"zaxis\":{\"backgroundcolor\":\"#E5ECF6\",\"gridcolor\":\"white\",\"gridwidth\":2,\"linecolor\":\"white\",\"showbackground\":true,\"ticks\":\"\",\"zerolinecolor\":\"white\"}},\"shapedefaults\":{\"line\":{\"color\":\"#2a3f5f\"}},\"ternary\":{\"aaxis\":{\"gridcolor\":\"white\",\"linecolor\":\"white\",\"ticks\":\"\"},\"baxis\":{\"gridcolor\":\"white\",\"linecolor\":\"white\",\"ticks\":\"\"},\"bgcolor\":\"#E5ECF6\",\"caxis\":{\"gridcolor\":\"white\",\"linecolor\":\"white\",\"ticks\":\"\"}},\"title\":{\"x\":0.05},\"xaxis\":{\"automargin\":true,\"gridcolor\":\"white\",\"linecolor\":\"white\",\"ticks\":\"\",\"title\":{\"standoff\":15},\"zerolinecolor\":\"white\",\"zerolinewidth\":2},\"yaxis\":{\"automargin\":true,\"gridcolor\":\"white\",\"linecolor\":\"white\",\"ticks\":\"\",\"title\":{\"standoff\":15},\"zerolinecolor\":\"white\",\"zerolinewidth\":2}}},\"xaxis\":{\"anchor\":\"y\",\"domain\":[0.0,0.45]},\"yaxis\":{\"anchor\":\"x\",\"domain\":[0.7333333333333333,1.0]},\"xaxis2\":{\"anchor\":\"y2\",\"domain\":[0.55,1.0]},\"yaxis2\":{\"anchor\":\"x2\",\"domain\":[0.7333333333333333,1.0]},\"xaxis3\":{\"anchor\":\"y3\",\"domain\":[0.0,0.45]},\"yaxis3\":{\"anchor\":\"x3\",\"domain\":[0.36666666666666664,0.6333333333333333]},\"xaxis4\":{\"anchor\":\"y4\",\"domain\":[0.55,1.0]},\"yaxis4\":{\"anchor\":\"x4\",\"domain\":[0.36666666666666664,0.6333333333333333]},\"xaxis5\":{\"anchor\":\"y5\",\"domain\":[0.0,0.45]},\"yaxis5\":{\"anchor\":\"x5\",\"domain\":[0.0,0.26666666666666666]},\"xaxis6\":{\"anchor\":\"y6\",\"domain\":[0.55,1.0]},\"yaxis6\":{\"anchor\":\"x6\",\"domain\":[0.0,0.26666666666666666]},\"title\":{\"text\":\"#5/10:\"},\"height\":600,\"width\":800},                        {\"responsive\": true}                    ).then(function(){\n",
       "                            \n",
       "var gd = document.getElementById('e421da28-d476-4c86-a602-001291d6a19b');\n",
       "var x = new MutationObserver(function (mutations, observer) {{\n",
       "        var display = window.getComputedStyle(gd).display;\n",
       "        if (!display || display === 'none') {{\n",
       "            console.log([gd, 'removed!']);\n",
       "            Plotly.purge(gd);\n",
       "            observer.disconnect();\n",
       "        }}\n",
       "}});\n",
       "\n",
       "// Listen for the removal of the full notebook cells\n",
       "var notebookContainer = gd.closest('#notebook-container');\n",
       "if (notebookContainer) {{\n",
       "    x.observe(notebookContainer, {childList: true});\n",
       "}}\n",
       "\n",
       "// Listen for the clearing of the current output cell\n",
       "var outputEl = gd.closest('.output');\n",
       "if (outputEl) {{\n",
       "    x.observe(outputEl, {childList: true});\n",
       "}}\n",
       "\n",
       "                        })                };                });            </script>        </div>"
      ]
     },
     "metadata": {},
     "output_type": "display_data"
    },
    {
     "name": "stdout",
     "output_type": "stream",
     "text": [
      "#6/10:\n"
     ]
    },
    {
     "data": {
      "application/vnd.jupyter.widget-view+json": {
       "model_id": "ef322c60c08a40ef847909fd8dfa7648",
       "version_major": 2,
       "version_minor": 0
      },
      "text/plain": [
       "  0%|          | 0/327 [00:00<?, ?it/s]"
      ]
     },
     "metadata": {},
     "output_type": "display_data"
    },
    {
     "ename": "KeyboardInterrupt",
     "evalue": "",
     "output_type": "error",
     "traceback": [
      "\u001b[0;31m---------------------------------------------------------------------------\u001b[0m",
      "\u001b[0;31mKeyboardInterrupt\u001b[0m                         Traceback (most recent call last)",
      "\u001b[1;32m/home/vladimirmrzv/damaged_package_detection/time_step_model/main.ipynb Cell 35\u001b[0m in \u001b[0;36m<cell line: 1>\u001b[0;34m()\u001b[0m\n\u001b[0;32m----> <a href='vscode-notebook-cell://ssh-remote%2Bmt-v100-dev/home/vladimirmrzv/damaged_package_detection/time_step_model/main.ipynb#Y113sdnNjb2RlLXJlbW90ZQ%3D%3D?line=0'>1</a>\u001b[0m model, optimizer_model, plot_result \u001b[39m=\u001b[39m learning_loop(\n\u001b[1;32m      <a href='vscode-notebook-cell://ssh-remote%2Bmt-v100-dev/home/vladimirmrzv/damaged_package_detection/time_step_model/main.ipynb#Y113sdnNjb2RlLXJlbW90ZQ%3D%3D?line=1'>2</a>\u001b[0m     model\u001b[39m=\u001b[39;49mmodel,\n\u001b[1;32m      <a href='vscode-notebook-cell://ssh-remote%2Bmt-v100-dev/home/vladimirmrzv/damaged_package_detection/time_step_model/main.ipynb#Y113sdnNjb2RlLXJlbW90ZQ%3D%3D?line=2'>3</a>\u001b[0m     optimizer\u001b[39m=\u001b[39;49moptimizer_model,\n\u001b[1;32m      <a href='vscode-notebook-cell://ssh-remote%2Bmt-v100-dev/home/vladimirmrzv/damaged_package_detection/time_step_model/main.ipynb#Y113sdnNjb2RlLXJlbW90ZQ%3D%3D?line=3'>4</a>\u001b[0m     train_loader\u001b[39m=\u001b[39;49mtrain_dataloader,\n\u001b[1;32m      <a href='vscode-notebook-cell://ssh-remote%2Bmt-v100-dev/home/vladimirmrzv/damaged_package_detection/time_step_model/main.ipynb#Y113sdnNjb2RlLXJlbW90ZQ%3D%3D?line=4'>5</a>\u001b[0m     val_loader\u001b[39m=\u001b[39;49mval_dataloader,\n\u001b[1;32m      <a href='vscode-notebook-cell://ssh-remote%2Bmt-v100-dev/home/vladimirmrzv/damaged_package_detection/time_step_model/main.ipynb#Y113sdnNjb2RlLXJlbW90ZQ%3D%3D?line=5'>6</a>\u001b[0m     loss_fn\u001b[39m=\u001b[39;49mloss_fn,\n\u001b[1;32m      <a href='vscode-notebook-cell://ssh-remote%2Bmt-v100-dev/home/vladimirmrzv/damaged_package_detection/time_step_model/main.ipynb#Y113sdnNjb2RlLXJlbW90ZQ%3D%3D?line=6'>7</a>\u001b[0m     metrics\u001b[39m=\u001b[39;49mmetrics,\n\u001b[1;32m      <a href='vscode-notebook-cell://ssh-remote%2Bmt-v100-dev/home/vladimirmrzv/damaged_package_detection/time_step_model/main.ipynb#Y113sdnNjb2RlLXJlbW90ZQ%3D%3D?line=7'>8</a>\u001b[0m     epochs\u001b[39m=\u001b[39;49m\u001b[39m10\u001b[39;49m\n\u001b[1;32m      <a href='vscode-notebook-cell://ssh-remote%2Bmt-v100-dev/home/vladimirmrzv/damaged_package_detection/time_step_model/main.ipynb#Y113sdnNjb2RlLXJlbW90ZQ%3D%3D?line=8'>9</a>\u001b[0m )\n",
      "\u001b[1;32m/home/vladimirmrzv/damaged_package_detection/time_step_model/main.ipynb Cell 35\u001b[0m in \u001b[0;36mlearning_loop\u001b[0;34m(model, optimizer, train_loader, val_loader, loss_fn, metrics, epochs)\u001b[0m\n\u001b[1;32m     <a href='vscode-notebook-cell://ssh-remote%2Bmt-v100-dev/home/vladimirmrzv/damaged_package_detection/time_step_model/main.ipynb#Y113sdnNjb2RlLXJlbW90ZQ%3D%3D?line=16'>17</a>\u001b[0m \u001b[39mfor\u001b[39;00m epoch \u001b[39min\u001b[39;00m \u001b[39mrange\u001b[39m(\u001b[39m1\u001b[39m, epochs\u001b[39m+\u001b[39m\u001b[39m1\u001b[39m):\n\u001b[1;32m     <a href='vscode-notebook-cell://ssh-remote%2Bmt-v100-dev/home/vladimirmrzv/damaged_package_detection/time_step_model/main.ipynb#Y113sdnNjb2RlLXJlbW90ZQ%3D%3D?line=17'>18</a>\u001b[0m     \u001b[39m# train\u001b[39m\n\u001b[1;32m     <a href='vscode-notebook-cell://ssh-remote%2Bmt-v100-dev/home/vladimirmrzv/damaged_package_detection/time_step_model/main.ipynb#Y113sdnNjb2RlLXJlbW90ZQ%3D%3D?line=18'>19</a>\u001b[0m     \u001b[39m#\u001b[39m\n\u001b[1;32m     <a href='vscode-notebook-cell://ssh-remote%2Bmt-v100-dev/home/vladimirmrzv/damaged_package_detection/time_step_model/main.ipynb#Y113sdnNjb2RlLXJlbW90ZQ%3D%3D?line=19'>20</a>\u001b[0m     \u001b[39mprint\u001b[39m(\u001b[39mf\u001b[39m\u001b[39m'\u001b[39m\u001b[39m#\u001b[39m\u001b[39m{epoch}\u001b[39;00m\u001b[39m/\u001b[39m\u001b[39m{epochs}\u001b[39;00m\u001b[39m:\u001b[39m\u001b[39m'\u001b[39m)\n\u001b[0;32m---> <a href='vscode-notebook-cell://ssh-remote%2Bmt-v100-dev/home/vladimirmrzv/damaged_package_detection/time_step_model/main.ipynb#Y113sdnNjb2RlLXJlbW90ZQ%3D%3D?line=20'>21</a>\u001b[0m     model, optimizer, train_loss \u001b[39m=\u001b[39m train_loop(model, train_loader, loss_fn, optimizer)\n\u001b[1;32m     <a href='vscode-notebook-cell://ssh-remote%2Bmt-v100-dev/home/vladimirmrzv/damaged_package_detection/time_step_model/main.ipynb#Y113sdnNjb2RlLXJlbW90ZQ%3D%3D?line=21'>22</a>\u001b[0m     plot_result[\u001b[39m'\u001b[39m\u001b[39mtrain_loss\u001b[39m\u001b[39m'\u001b[39m]\u001b[39m.\u001b[39mappend(train_loss)\n\u001b[1;32m     <a href='vscode-notebook-cell://ssh-remote%2Bmt-v100-dev/home/vladimirmrzv/damaged_package_detection/time_step_model/main.ipynb#Y113sdnNjb2RlLXJlbW90ZQ%3D%3D?line=23'>24</a>\u001b[0m     \u001b[39m# test\u001b[39m\n\u001b[1;32m     <a href='vscode-notebook-cell://ssh-remote%2Bmt-v100-dev/home/vladimirmrzv/damaged_package_detection/time_step_model/main.ipynb#Y113sdnNjb2RlLXJlbW90ZQ%3D%3D?line=24'>25</a>\u001b[0m     \u001b[39m#\u001b[39m\n",
      "\u001b[1;32m/home/vladimirmrzv/damaged_package_detection/time_step_model/main.ipynb Cell 35\u001b[0m in \u001b[0;36mtrain_loop\u001b[0;34m(model, train_loader, criterion, optimizer)\u001b[0m\n\u001b[1;32m      <a href='vscode-notebook-cell://ssh-remote%2Bmt-v100-dev/home/vladimirmrzv/damaged_package_detection/time_step_model/main.ipynb#Y113sdnNjb2RlLXJlbW90ZQ%3D%3D?line=1'>2</a>\u001b[0m train_loss \u001b[39m=\u001b[39m num_samples \u001b[39m=\u001b[39m \u001b[39m0.0\u001b[39m\n\u001b[1;32m      <a href='vscode-notebook-cell://ssh-remote%2Bmt-v100-dev/home/vladimirmrzv/damaged_package_detection/time_step_model/main.ipynb#Y113sdnNjb2RlLXJlbW90ZQ%3D%3D?line=2'>3</a>\u001b[0m sigmoid \u001b[39m=\u001b[39m nn\u001b[39m.\u001b[39mSigmoid()\n\u001b[0;32m----> <a href='vscode-notebook-cell://ssh-remote%2Bmt-v100-dev/home/vladimirmrzv/damaged_package_detection/time_step_model/main.ipynb#Y113sdnNjb2RlLXJlbW90ZQ%3D%3D?line=3'>4</a>\u001b[0m \u001b[39mfor\u001b[39;00m batch \u001b[39min\u001b[39;00m tqdm(train_loader):\n\u001b[1;32m      <a href='vscode-notebook-cell://ssh-remote%2Bmt-v100-dev/home/vladimirmrzv/damaged_package_detection/time_step_model/main.ipynb#Y113sdnNjb2RlLXJlbW90ZQ%3D%3D?line=4'>5</a>\u001b[0m     batch_pred \u001b[39m=\u001b[39m model(batch[\u001b[39m'\u001b[39m\u001b[39mimages\u001b[39m\u001b[39m'\u001b[39m]\u001b[39m.\u001b[39mto(device))\n\u001b[1;32m      <a href='vscode-notebook-cell://ssh-remote%2Bmt-v100-dev/home/vladimirmrzv/damaged_package_detection/time_step_model/main.ipynb#Y113sdnNjb2RlLXJlbW90ZQ%3D%3D?line=5'>6</a>\u001b[0m     batch_pred \u001b[39m=\u001b[39m batch_pred\u001b[39m.\u001b[39msqueeze(\u001b[39m-\u001b[39m\u001b[39m1\u001b[39m)\n",
      "File \u001b[0;32m~/anaconda3/lib/python3.9/site-packages/tqdm/notebook.py:258\u001b[0m, in \u001b[0;36mtqdm_notebook.__iter__\u001b[0;34m(self)\u001b[0m\n\u001b[1;32m    256\u001b[0m \u001b[39mtry\u001b[39;00m:\n\u001b[1;32m    257\u001b[0m     it \u001b[39m=\u001b[39m \u001b[39msuper\u001b[39m(tqdm_notebook, \u001b[39mself\u001b[39m)\u001b[39m.\u001b[39m\u001b[39m__iter__\u001b[39m()\n\u001b[0;32m--> 258\u001b[0m     \u001b[39mfor\u001b[39;00m obj \u001b[39min\u001b[39;00m it:\n\u001b[1;32m    259\u001b[0m         \u001b[39m# return super(tqdm...) will not catch exception\u001b[39m\n\u001b[1;32m    260\u001b[0m         \u001b[39myield\u001b[39;00m obj\n\u001b[1;32m    261\u001b[0m \u001b[39m# NB: except ... [ as ...] breaks IPython async KeyboardInterrupt\u001b[39m\n",
      "File \u001b[0;32m~/anaconda3/lib/python3.9/site-packages/tqdm/std.py:1195\u001b[0m, in \u001b[0;36mtqdm.__iter__\u001b[0;34m(self)\u001b[0m\n\u001b[1;32m   1192\u001b[0m time \u001b[39m=\u001b[39m \u001b[39mself\u001b[39m\u001b[39m.\u001b[39m_time\n\u001b[1;32m   1194\u001b[0m \u001b[39mtry\u001b[39;00m:\n\u001b[0;32m-> 1195\u001b[0m     \u001b[39mfor\u001b[39;00m obj \u001b[39min\u001b[39;00m iterable:\n\u001b[1;32m   1196\u001b[0m         \u001b[39myield\u001b[39;00m obj\n\u001b[1;32m   1197\u001b[0m         \u001b[39m# Update and possibly print the progressbar.\u001b[39m\n\u001b[1;32m   1198\u001b[0m         \u001b[39m# Note: does not call self.update(1) for speed optimisation.\u001b[39m\n",
      "File \u001b[0;32m~/anaconda3/lib/python3.9/site-packages/torch/utils/data/dataloader.py:681\u001b[0m, in \u001b[0;36m_BaseDataLoaderIter.__next__\u001b[0;34m(self)\u001b[0m\n\u001b[1;32m    678\u001b[0m \u001b[39mif\u001b[39;00m \u001b[39mself\u001b[39m\u001b[39m.\u001b[39m_sampler_iter \u001b[39mis\u001b[39;00m \u001b[39mNone\u001b[39;00m:\n\u001b[1;32m    679\u001b[0m     \u001b[39m# TODO(https://github.com/pytorch/pytorch/issues/76750)\u001b[39m\n\u001b[1;32m    680\u001b[0m     \u001b[39mself\u001b[39m\u001b[39m.\u001b[39m_reset()  \u001b[39m# type: ignore[call-arg]\u001b[39m\n\u001b[0;32m--> 681\u001b[0m data \u001b[39m=\u001b[39m \u001b[39mself\u001b[39;49m\u001b[39m.\u001b[39;49m_next_data()\n\u001b[1;32m    682\u001b[0m \u001b[39mself\u001b[39m\u001b[39m.\u001b[39m_num_yielded \u001b[39m+\u001b[39m\u001b[39m=\u001b[39m \u001b[39m1\u001b[39m\n\u001b[1;32m    683\u001b[0m \u001b[39mif\u001b[39;00m \u001b[39mself\u001b[39m\u001b[39m.\u001b[39m_dataset_kind \u001b[39m==\u001b[39m _DatasetKind\u001b[39m.\u001b[39mIterable \u001b[39mand\u001b[39;00m \\\n\u001b[1;32m    684\u001b[0m         \u001b[39mself\u001b[39m\u001b[39m.\u001b[39m_IterableDataset_len_called \u001b[39mis\u001b[39;00m \u001b[39mnot\u001b[39;00m \u001b[39mNone\u001b[39;00m \u001b[39mand\u001b[39;00m \\\n\u001b[1;32m    685\u001b[0m         \u001b[39mself\u001b[39m\u001b[39m.\u001b[39m_num_yielded \u001b[39m>\u001b[39m \u001b[39mself\u001b[39m\u001b[39m.\u001b[39m_IterableDataset_len_called:\n",
      "File \u001b[0;32m~/anaconda3/lib/python3.9/site-packages/torch/utils/data/dataloader.py:1359\u001b[0m, in \u001b[0;36m_MultiProcessingDataLoaderIter._next_data\u001b[0;34m(self)\u001b[0m\n\u001b[1;32m   1356\u001b[0m     \u001b[39mreturn\u001b[39;00m \u001b[39mself\u001b[39m\u001b[39m.\u001b[39m_process_data(data)\n\u001b[1;32m   1358\u001b[0m \u001b[39massert\u001b[39;00m \u001b[39mnot\u001b[39;00m \u001b[39mself\u001b[39m\u001b[39m.\u001b[39m_shutdown \u001b[39mand\u001b[39;00m \u001b[39mself\u001b[39m\u001b[39m.\u001b[39m_tasks_outstanding \u001b[39m>\u001b[39m \u001b[39m0\u001b[39m\n\u001b[0;32m-> 1359\u001b[0m idx, data \u001b[39m=\u001b[39m \u001b[39mself\u001b[39;49m\u001b[39m.\u001b[39;49m_get_data()\n\u001b[1;32m   1360\u001b[0m \u001b[39mself\u001b[39m\u001b[39m.\u001b[39m_tasks_outstanding \u001b[39m-\u001b[39m\u001b[39m=\u001b[39m \u001b[39m1\u001b[39m\n\u001b[1;32m   1361\u001b[0m \u001b[39mif\u001b[39;00m \u001b[39mself\u001b[39m\u001b[39m.\u001b[39m_dataset_kind \u001b[39m==\u001b[39m _DatasetKind\u001b[39m.\u001b[39mIterable:\n\u001b[1;32m   1362\u001b[0m     \u001b[39m# Check for _IterableDatasetStopIteration\u001b[39m\n",
      "File \u001b[0;32m~/anaconda3/lib/python3.9/site-packages/torch/utils/data/dataloader.py:1325\u001b[0m, in \u001b[0;36m_MultiProcessingDataLoaderIter._get_data\u001b[0;34m(self)\u001b[0m\n\u001b[1;32m   1321\u001b[0m     \u001b[39m# In this case, `self._data_queue` is a `queue.Queue`,. But we don't\u001b[39m\n\u001b[1;32m   1322\u001b[0m     \u001b[39m# need to call `.task_done()` because we don't use `.join()`.\u001b[39m\n\u001b[1;32m   1323\u001b[0m \u001b[39melse\u001b[39;00m:\n\u001b[1;32m   1324\u001b[0m     \u001b[39mwhile\u001b[39;00m \u001b[39mTrue\u001b[39;00m:\n\u001b[0;32m-> 1325\u001b[0m         success, data \u001b[39m=\u001b[39m \u001b[39mself\u001b[39;49m\u001b[39m.\u001b[39;49m_try_get_data()\n\u001b[1;32m   1326\u001b[0m         \u001b[39mif\u001b[39;00m success:\n\u001b[1;32m   1327\u001b[0m             \u001b[39mreturn\u001b[39;00m data\n",
      "File \u001b[0;32m~/anaconda3/lib/python3.9/site-packages/torch/utils/data/dataloader.py:1163\u001b[0m, in \u001b[0;36m_MultiProcessingDataLoaderIter._try_get_data\u001b[0;34m(self, timeout)\u001b[0m\n\u001b[1;32m   1150\u001b[0m \u001b[39mdef\u001b[39;00m \u001b[39m_try_get_data\u001b[39m(\u001b[39mself\u001b[39m, timeout\u001b[39m=\u001b[39m_utils\u001b[39m.\u001b[39mMP_STATUS_CHECK_INTERVAL):\n\u001b[1;32m   1151\u001b[0m     \u001b[39m# Tries to fetch data from `self._data_queue` once for a given timeout.\u001b[39m\n\u001b[1;32m   1152\u001b[0m     \u001b[39m# This can also be used as inner loop of fetching without timeout, with\u001b[39m\n\u001b[0;32m   (...)\u001b[0m\n\u001b[1;32m   1160\u001b[0m     \u001b[39m# Returns a 2-tuple:\u001b[39m\n\u001b[1;32m   1161\u001b[0m     \u001b[39m#   (bool: whether successfully get data, any: data if successful else None)\u001b[39m\n\u001b[1;32m   1162\u001b[0m     \u001b[39mtry\u001b[39;00m:\n\u001b[0;32m-> 1163\u001b[0m         data \u001b[39m=\u001b[39m \u001b[39mself\u001b[39;49m\u001b[39m.\u001b[39;49m_data_queue\u001b[39m.\u001b[39;49mget(timeout\u001b[39m=\u001b[39;49mtimeout)\n\u001b[1;32m   1164\u001b[0m         \u001b[39mreturn\u001b[39;00m (\u001b[39mTrue\u001b[39;00m, data)\n\u001b[1;32m   1165\u001b[0m     \u001b[39mexcept\u001b[39;00m \u001b[39mException\u001b[39;00m \u001b[39mas\u001b[39;00m e:\n\u001b[1;32m   1166\u001b[0m         \u001b[39m# At timeout and error, we manually check whether any worker has\u001b[39m\n\u001b[1;32m   1167\u001b[0m         \u001b[39m# failed. Note that this is the only mechanism for Windows to detect\u001b[39m\n\u001b[1;32m   1168\u001b[0m         \u001b[39m# worker failures.\u001b[39m\n",
      "File \u001b[0;32m~/anaconda3/lib/python3.9/multiprocessing/queues.py:113\u001b[0m, in \u001b[0;36mQueue.get\u001b[0;34m(self, block, timeout)\u001b[0m\n\u001b[1;32m    111\u001b[0m \u001b[39mif\u001b[39;00m block:\n\u001b[1;32m    112\u001b[0m     timeout \u001b[39m=\u001b[39m deadline \u001b[39m-\u001b[39m time\u001b[39m.\u001b[39mmonotonic()\n\u001b[0;32m--> 113\u001b[0m     \u001b[39mif\u001b[39;00m \u001b[39mnot\u001b[39;00m \u001b[39mself\u001b[39;49m\u001b[39m.\u001b[39;49m_poll(timeout):\n\u001b[1;32m    114\u001b[0m         \u001b[39mraise\u001b[39;00m Empty\n\u001b[1;32m    115\u001b[0m \u001b[39melif\u001b[39;00m \u001b[39mnot\u001b[39;00m \u001b[39mself\u001b[39m\u001b[39m.\u001b[39m_poll():\n",
      "File \u001b[0;32m~/anaconda3/lib/python3.9/multiprocessing/connection.py:262\u001b[0m, in \u001b[0;36m_ConnectionBase.poll\u001b[0;34m(self, timeout)\u001b[0m\n\u001b[1;32m    260\u001b[0m \u001b[39mself\u001b[39m\u001b[39m.\u001b[39m_check_closed()\n\u001b[1;32m    261\u001b[0m \u001b[39mself\u001b[39m\u001b[39m.\u001b[39m_check_readable()\n\u001b[0;32m--> 262\u001b[0m \u001b[39mreturn\u001b[39;00m \u001b[39mself\u001b[39;49m\u001b[39m.\u001b[39;49m_poll(timeout)\n",
      "File \u001b[0;32m~/anaconda3/lib/python3.9/multiprocessing/connection.py:429\u001b[0m, in \u001b[0;36mConnection._poll\u001b[0;34m(self, timeout)\u001b[0m\n\u001b[1;32m    428\u001b[0m \u001b[39mdef\u001b[39;00m \u001b[39m_poll\u001b[39m(\u001b[39mself\u001b[39m, timeout):\n\u001b[0;32m--> 429\u001b[0m     r \u001b[39m=\u001b[39m wait([\u001b[39mself\u001b[39;49m], timeout)\n\u001b[1;32m    430\u001b[0m     \u001b[39mreturn\u001b[39;00m \u001b[39mbool\u001b[39m(r)\n",
      "File \u001b[0;32m~/anaconda3/lib/python3.9/multiprocessing/connection.py:936\u001b[0m, in \u001b[0;36mwait\u001b[0;34m(object_list, timeout)\u001b[0m\n\u001b[1;32m    933\u001b[0m     deadline \u001b[39m=\u001b[39m time\u001b[39m.\u001b[39mmonotonic() \u001b[39m+\u001b[39m timeout\n\u001b[1;32m    935\u001b[0m \u001b[39mwhile\u001b[39;00m \u001b[39mTrue\u001b[39;00m:\n\u001b[0;32m--> 936\u001b[0m     ready \u001b[39m=\u001b[39m selector\u001b[39m.\u001b[39;49mselect(timeout)\n\u001b[1;32m    937\u001b[0m     \u001b[39mif\u001b[39;00m ready:\n\u001b[1;32m    938\u001b[0m         \u001b[39mreturn\u001b[39;00m [key\u001b[39m.\u001b[39mfileobj \u001b[39mfor\u001b[39;00m (key, events) \u001b[39min\u001b[39;00m ready]\n",
      "File \u001b[0;32m~/anaconda3/lib/python3.9/selectors.py:416\u001b[0m, in \u001b[0;36m_PollLikeSelector.select\u001b[0;34m(self, timeout)\u001b[0m\n\u001b[1;32m    414\u001b[0m ready \u001b[39m=\u001b[39m []\n\u001b[1;32m    415\u001b[0m \u001b[39mtry\u001b[39;00m:\n\u001b[0;32m--> 416\u001b[0m     fd_event_list \u001b[39m=\u001b[39m \u001b[39mself\u001b[39;49m\u001b[39m.\u001b[39;49m_selector\u001b[39m.\u001b[39;49mpoll(timeout)\n\u001b[1;32m    417\u001b[0m \u001b[39mexcept\u001b[39;00m \u001b[39mInterruptedError\u001b[39;00m:\n\u001b[1;32m    418\u001b[0m     \u001b[39mreturn\u001b[39;00m ready\n",
      "\u001b[0;31mKeyboardInterrupt\u001b[0m: "
     ]
    }
   ],
   "source": [
    "model, optimizer_model, plot_result = learning_loop(\n",
    "    model=model,\n",
    "    optimizer=optimizer_model,\n",
    "    train_loader=train_dataloader,\n",
    "    val_loader=val_dataloader,\n",
    "    loss_fn=loss_fn,\n",
    "    metrics=metrics,\n",
    "    epochs=10\n",
    ")"
   ]
  }
 ],
 "metadata": {
  "kernelspec": {
   "display_name": "Python 3.9.12 ('base': conda)",
   "language": "python",
   "name": "python3"
  },
  "language_info": {
   "codemirror_mode": {
    "name": "ipython",
    "version": 3
   },
   "file_extension": ".py",
   "mimetype": "text/x-python",
   "name": "python",
   "nbconvert_exporter": "python",
   "pygments_lexer": "ipython3",
   "version": "3.9.12"
  },
  "orig_nbformat": 4,
  "vscode": {
   "interpreter": {
    "hash": "90c596f50b04d46fffa8b990023596459612da6ec106d24d65ff8f7dfdc8f1a2"
   }
  }
 },
 "nbformat": 4,
 "nbformat_minor": 2
}

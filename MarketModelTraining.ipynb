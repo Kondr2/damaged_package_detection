{
 "cells": [
  {
   "cell_type": "code",
   "execution_count": 1,
   "id": "fb864371",
   "metadata": {},
   "outputs": [],
   "source": [
    "import cv2\n",
    "import json\n",
    "import matplotlib.pyplot as plt\n",
    "import numpy as np\n",
    "import os\n",
    "import pandas as pd"
   ]
  },
  {
   "cell_type": "code",
   "execution_count": 2,
   "id": "c7058300",
   "metadata": {},
   "outputs": [],
   "source": [
    "CLOUD_DUMP_PATH = 'data/cloud_dump/'\n",
    "CLOUD_DUMP_TOUCHED_PATH = 'data/cloud_dump/is_touched_20221006_1815.csv'\n",
    "ROBOT_DUMP_PATH = 'data/robot_dump/'\n",
    "CONTENT = 'data/meda_content'"
   ]
  },
  {
   "cell_type": "code",
   "execution_count": 3,
   "id": "70c6f450",
   "metadata": {},
   "outputs": [],
   "source": [
    "def get_cloud_data(path):\n",
    "    dfs = []\n",
    "    json_paths = [path for path in [x for x in os.walk(path)][0][2] if '.json' in path]\n",
    "    for name in json_paths:\n",
    "        with open(os.path.join(path, name)) as f:\n",
    "            dfs.append(pd.read_json(f).set_index('id'))\n",
    "    return pd.concat(dfs, axis=0)\n",
    "    \n",
    "def get_robot_data(path):\n",
    "    dfs = []\n",
    "    json_paths = [path for path in [x for x in os.walk(path)][0][2] if '.json' in path]\n",
    "    for name in json_paths:\n",
    "        with open(os.path.join(path, name)) as f:\n",
    "            dfs.append(pd.DataFrame.from_dict(json.load(f)['data']).set_index('id'))\n",
    "    return pd.concat(dfs, axis=0)\n",
    "\n",
    "def merge_data(cloud_data, robot_data, columns=['palletPlaceImageUri', 'scanResult', 'location', 'addDate']):\n",
    "    assert(set(columns).issubset(cloud_data.columns))\n",
    "    assert(set(columns).issubset(robot_data.columns))\n",
    "    to_concat = [cloud_data[columns], robot_data[columns]]\n",
    "    return pd.concat(to_concat, axis=0)\n",
    "\n",
    "def get_raw_data(cloud_data_path, robot_data_path):\n",
    "    cloud_data = get_cloud_data(cloud_data_path)\n",
    "    robot_data = get_robot_data(robot_data_path)\n",
    "    robot_data.rename(columns={'createdDatetime': 'addDate'}, inplace=True)\n",
    "    return merge_data(cloud_data, robot_data)"
   ]
  },
  {
   "cell_type": "code",
   "execution_count": 4,
   "id": "4bbbde8f",
   "metadata": {},
   "outputs": [],
   "source": [
    "def get_jpeg_paths(content_folder):\n",
    "    jpeg_paths = {}\n",
    "    for folder in os.walk(content_folder):\n",
    "        for path in folder[2]:\n",
    "            if '.jpeg' in path:\n",
    "                jpeg_paths[path] = os.path.join(folder[0], path)\n",
    "    return jpeg_paths\n",
    "\n",
    "def replace_jpeg_paths(data, jpeg_paths, column='jpeg_path'):\n",
    "    assert(column in data.columns)\n",
    "    data[column] = data.apply(lambda x: jpeg_paths[x[column]] if x[column] in jpeg_paths else np.NaN, axis=1)\n",
    "    return data\n",
    "\n",
    "def preprocess(raw_data, touched_data, content_folder):\n",
    "    raw_data.rename(columns={\n",
    "        'palletPlaceImageUri': 'jpeg_path',\n",
    "        'scanResult': 'pallet',\n",
    "    }, inplace=True)\n",
    "    jpeg_paths = get_jpeg_paths(content_folder)\n",
    "    data = pd.merge(raw_data, touched_data, how='left',on=['pallet','location'])\n",
    "    data = replace_jpeg_paths(data, jpeg_paths)\n",
    "    return data"
   ]
  },
  {
   "cell_type": "code",
   "execution_count": 5,
   "id": "30adc0f0",
   "metadata": {},
   "outputs": [],
   "source": [
    "def print_img(path):\n",
    "    image = cv2.imread(path)\n",
    "    plt.imshow(image)\n",
    "    plt.show()"
   ]
  },
  {
   "cell_type": "code",
   "execution_count": 6,
   "id": "022a2841",
   "metadata": {},
   "outputs": [],
   "source": [
    "raw_data = get_raw_data(CLOUD_DUMP_PATH, ROBOT_DUMP_PATH)\n",
    "touched_data = pd.read_csv(CLOUD_DUMP_TOUCHED_PATH, names=['pallet','location','is_touched'])"
   ]
  },
  {
   "cell_type": "code",
   "execution_count": 7,
   "id": "8f3c2d05",
   "metadata": {},
   "outputs": [],
   "source": [
    "data = preprocess(raw_data, touched_data, CONTENT)"
   ]
  },
  {
   "cell_type": "markdown",
   "id": "9054444a",
   "metadata": {},
   "source": [
    "# Обучим бейзлайн модель"
   ]
  },
  {
   "cell_type": "code",
   "execution_count": 8,
   "id": "2be49cd1",
   "metadata": {},
   "outputs": [],
   "source": [
    "data = data.dropna()"
   ]
  },
  {
   "cell_type": "code",
   "execution_count": 9,
   "id": "d5f6330c",
   "metadata": {},
   "outputs": [],
   "source": [
    "data['is_touched'] = data['is_touched'].astype(int)"
   ]
  },
  {
   "cell_type": "code",
   "execution_count": 10,
   "id": "f5a8c5aa",
   "metadata": {},
   "outputs": [],
   "source": [
    "import seaborn as sns"
   ]
  },
  {
   "cell_type": "code",
   "execution_count": 11,
   "id": "c709ab24",
   "metadata": {},
   "outputs": [
    {
     "data": {
      "text/plain": [
       "<AxesSubplot: xlabel='is_touched', ylabel='Count'>"
      ]
     },
     "execution_count": 11,
     "metadata": {},
     "output_type": "execute_result"
    },
    {
     "data": {
      "image/png": "[encoded data removed]",
      "text/plain": [
       "<Figure size 640x480 with 1 Axes>"
      ]
     },
     "metadata": {},
     "output_type": "display_data"
    }
   ],
   "source": [
    "sns.histplot(data['is_touched'])"
   ]
  },
  {
   "cell_type": "code",
   "execution_count": 12,
   "id": "c59c77c9",
   "metadata": {},
   "outputs": [
    {
     "data": {
      "text/plain": [
       "True"
      ]
     },
     "execution_count": 12,
     "metadata": {},
     "output_type": "execute_result"
    }
   ],
   "source": [
    "import torch\n",
    "torch.cuda.is_available()"
   ]
  },
  {
   "cell_type": "code",
   "execution_count": 13,
   "id": "0ff06bb4",
   "metadata": {},
   "outputs": [],
   "source": [
    "import pandas as pd\n",
    "import ipyplot\n",
    "import torch\n",
    "import pytorch_lightning as pl\n",
    "from sklearn.metrics import f1_score, accuracy_score"
   ]
  },
  {
   "cell_type": "code",
   "execution_count": 14,
   "id": "56383340",
   "metadata": {},
   "outputs": [],
   "source": [
    "all_images = list(data['jpeg_path'])"
   ]
  },
  {
   "cell_type": "code",
   "execution_count": 15,
   "id": "fa5594fc",
   "metadata": {},
   "outputs": [],
   "source": [
    "import cv2\n",
    "\n",
    "all_shapes = []\n",
    "for img_name in all_images:\n",
    "    img = cv2.imread(img_name)\n",
    "    all_shapes.append(img.shape[:2])"
   ]
  },
  {
   "cell_type": "code",
   "execution_count": 16,
   "id": "1685b2f7",
   "metadata": {},
   "outputs": [
    {
     "data": {
      "text/plain": [
       "array([ 424, 1224])"
      ]
     },
     "execution_count": 16,
     "metadata": {},
     "output_type": "execute_result"
    }
   ],
   "source": [
    "# Все изображения одного размера!\n",
    "np.unique(all_shapes)"
   ]
  },
  {
   "cell_type": "code",
   "execution_count": 17,
   "id": "940e6ab4",
   "metadata": {},
   "outputs": [],
   "source": [
    "from torchvision import transforms\n",
    "import functools\n",
    "import matplotlib.pyplot as plt\n",
    "\n",
    "transform = transforms.Compose(\n",
    "    [   \n",
    "        transforms.ToTensor(),\n",
    "        transforms.Resize((608, 208)),\n",
    "        transforms.Normalize(mean=[0.485, 0.456, 0.406], std=[0.229, 0.224, 0.225])\n",
    "    ]\n",
    ")\n",
    "\n",
    "inv_im_trans = transforms.Normalize(\n",
    "                mean=[-0.485/0.229, -0.456/0.224, -0.406/0.225],\n",
    "                std=[1/0.229, 1/0.224, 1/0.225])"
   ]
  },
  {
   "cell_type": "code",
   "execution_count": 18,
   "id": "32689d43",
   "metadata": {},
   "outputs": [],
   "source": [
    "from torch.utils.data import Dataset\n",
    "from skimage import io\n",
    "\n",
    "class ImagesDataset(Dataset):\n",
    "    def __init__(self, image_paths, labels = None, transform=None):\n",
    "        super().__init__()\n",
    "        self.image_paths = image_paths\n",
    "        self.labels = labels\n",
    "        self.targets = self.labels\n",
    "        self.transform = transform\n",
    "        \n",
    "        if self.labels is not None:\n",
    "            assert len(self.image_paths) == len(self.labels)\n",
    "\n",
    "    def __len__(self):\n",
    "        return len(self.image_paths)\n",
    "\n",
    "    def __getitem__(self, idx):\n",
    "        if self.labels is not None:\n",
    "            label = self.labels[idx]\n",
    "        else:\n",
    "            label = -1 # Carefully handle that!\n",
    "        img = io.imread(self.image_paths[idx])\n",
    "        img = img[...,:3] # Some images have 4 channels, fix that\n",
    "        if self.transform:\n",
    "            img = self.transform(img)\n",
    "\n",
    "        return img, label"
   ]
  },
  {
   "cell_type": "code",
   "execution_count": 19,
   "id": "708dfcfd",
   "metadata": {},
   "outputs": [],
   "source": [
    "data = data.sort_values(by=['jpeg_path'])"
   ]
  },
  {
   "cell_type": "code",
   "execution_count": 20,
   "id": "e88ee9d3",
   "metadata": {},
   "outputs": [],
   "source": [
    "train_dataset = ImagesDataset(list(data['jpeg_path']), list(data['is_touched']), transform=transform)"
   ]
  },
  {
   "cell_type": "code",
   "execution_count": 21,
   "id": "567451e3",
   "metadata": {},
   "outputs": [
    {
     "data": {
      "text/plain": [
       "<matplotlib.image.AxesImage at 0x1ab3d68d4f0>"
      ]
     },
     "execution_count": 21,
     "metadata": {},
     "output_type": "execute_result"
    },
    {
     "data": {
      "image/png": "[encoded data removed]",
      "text/plain": [
       "<Figure size 640x480 with 1 Axes>"
      ]
     },
     "metadata": {},
     "output_type": "display_data"
    }
   ],
   "source": [
    "plt.imshow(inv_im_trans(train_dataset[20][0]).permute(1, 2, 0).numpy())"
   ]
  },
  {
   "cell_type": "code",
   "execution_count": 22,
   "id": "493acc31",
   "metadata": {},
   "outputs": [],
   "source": [
    "from torch.utils.data import DataLoader, Subset\n",
    "from sklearn.model_selection import train_test_split\n",
    "\n",
    "train_indices, val_indices, _, _ = train_test_split(range(len(train_dataset)), train_dataset.targets, \n",
    "                                                    stratify=train_dataset.targets, test_size=0.3, random_state=1337)\n",
    "\n",
    "train_split = Subset(train_dataset, train_indices)\n",
    "val_split = Subset(train_dataset, val_indices)"
   ]
  },
  {
   "cell_type": "code",
   "execution_count": 23,
   "id": "963729a1",
   "metadata": {},
   "outputs": [],
   "source": [
    "train_loader = torch.utils.data.DataLoader(train_split, \n",
    "                                           batch_size=24,\n",
    "                                           num_workers=0,\n",
    "                                           shuffle=True,\n",
    "                                           drop_last=True)\n",
    "\n",
    "val_loader = torch.utils.data.DataLoader(val_split, \n",
    "                                         batch_size=24,\n",
    "                                         num_workers=0,\n",
    "                                         shuffle=False)"
   ]
  },
  {
   "cell_type": "code",
   "execution_count": 26,
   "id": "296aa7ad",
   "metadata": {},
   "outputs": [],
   "source": [
    "import torch\n",
    "import torchvision.transforms as transforms\n",
    "from torch.nn import functional as F\n",
    "from torch import nn\n",
    "from torch.nn import *\n",
    "import pytorch_lightning as pl\n",
    "import torchvision\n",
    "from torchvision.models import resnet50, ResNet50_Weights\n",
    "\n",
    "class ImageClassifier(pl.LightningModule):\n",
    "    def __init__(self, trunk=None, class_weight=None, learning_rate=1e-4):\n",
    "        super().__init__()\n",
    "        self.class_weight = class_weight\n",
    "        self.trunk = resnet50(weights=ResNet50_Weights.DEFAULT)\n",
    "        self.trunk.fc = nn.Linear(2048, 2)\n",
    "        self.learning_rate =  learning_rate\n",
    "\n",
    "    def forward(self, x):\n",
    "        return self.trunk(x)\n",
    "\n",
    "    def predict_proba(self, x):\n",
    "        probabilities = nn.functional.softmax(self.forward(x), dim=1)\n",
    "        return probabilities\n",
    "\n",
    "    def predict(self, x):\n",
    "        return torch.max(self.forward(x), 1)[1]\n",
    "\n",
    "    def configure_optimizers(self):\n",
    "        optimizer = torch.optim.AdamW(self.parameters(),\n",
    "                                      lr=self.learning_rate)\n",
    "        return optimizer\n",
    "\n",
    "    def training_step(self, batch, batch_idx):\n",
    "        x, y = batch\n",
    "        y_hat = self(x)\n",
    "        loss = nn.CrossEntropyLoss(weight=self.class_weight)(y_hat, y)\n",
    "        self.log(\"train_loss\", loss)\n",
    "        return loss\n",
    "\n",
    "    def validation_step(self, batch, batch_idx):\n",
    "        x, y = batch\n",
    "        y_hat = self(x)\n",
    "        loss = nn.CrossEntropyLoss(weight=self.class_weight)(y_hat, y)\n",
    "        self.log(\"val_loss\", loss)"
   ]
  },
  {
   "cell_type": "code",
   "execution_count": 27,
   "id": "a9aa0c2c",
   "metadata": {},
   "outputs": [
    {
     "name": "stderr",
     "output_type": "stream",
     "text": [
      "C:\\Users\\andry\\anaconda3\\envs\\toloka\\lib\\site-packages\\pytorch_lightning\\trainer\\connectors\\accelerator_connector.py:447: LightningDeprecationWarning: Setting `Trainer(gpus=-1)` is deprecated in v1.7 and will be removed in v2.0. Please use `Trainer(accelerator='gpu', devices=-1)` instead.\n",
      "  rank_zero_deprecation(\n",
      "GPU available: True (cuda), used: True\n",
      "TPU available: False, using: 0 TPU cores\n",
      "IPU available: False, using: 0 IPUs\n",
      "HPU available: False, using: 0 HPUs\n",
      "LOCAL_RANK: 0 - CUDA_VISIBLE_DEVICES: [0]\n",
      "\n",
      "  | Name  | Type   | Params\n",
      "---------------------------------\n",
      "0 | trunk | ResNet | 23.5 M\n",
      "---------------------------------\n",
      "23.5 M    Trainable params\n",
      "0         Non-trainable params\n",
      "23.5 M    Total params\n",
      "94.049    Total estimated model params size (MB)\n"
     ]
    },
    {
     "data": {
      "application/vnd.jupyter.widget-view+json": {
       "model_id": "",
       "version_major": 2,
       "version_minor": 0
      },
      "text/plain": [
       "Sanity Checking: 0it [00:00, ?it/s]"
      ]
     },
     "metadata": {},
     "output_type": "display_data"
    },
    {
     "name": "stderr",
     "output_type": "stream",
     "text": [
      "C:\\Users\\andry\\anaconda3\\envs\\toloka\\lib\\site-packages\\pytorch_lightning\\trainer\\connectors\\data_connector.py:236: PossibleUserWarning: The dataloader, val_dataloader 0, does not have many workers which may be a bottleneck. Consider increasing the value of the `num_workers` argument` (try 16 which is the number of cpus on this machine) in the `DataLoader` init to improve performance.\n",
      "  rank_zero_warn(\n",
      "C:\\Users\\andry\\anaconda3\\envs\\toloka\\lib\\site-packages\\pytorch_lightning\\trainer\\connectors\\data_connector.py:236: PossibleUserWarning: The dataloader, train_dataloader, does not have many workers which may be a bottleneck. Consider increasing the value of the `num_workers` argument` (try 16 which is the number of cpus on this machine) in the `DataLoader` init to improve performance.\n",
      "  rank_zero_warn(\n"
     ]
    },
    {
     "data": {
      "application/vnd.jupyter.widget-view+json": {
       "model_id": "c6fe7b008f024c29880d7b3890f88f48",
       "version_major": 2,
       "version_minor": 0
      },
      "text/plain": [
       "Training: 0it [00:00, ?it/s]"
      ]
     },
     "metadata": {},
     "output_type": "display_data"
    },
    {
     "data": {
      "application/vnd.jupyter.widget-view+json": {
       "model_id": "",
       "version_major": 2,
       "version_minor": 0
      },
      "text/plain": [
       "Validation: 0it [00:00, ?it/s]"
      ]
     },
     "metadata": {},
     "output_type": "display_data"
    },
    {
     "data": {
      "application/vnd.jupyter.widget-view+json": {
       "model_id": "",
       "version_major": 2,
       "version_minor": 0
      },
      "text/plain": [
       "Validation: 0it [00:00, ?it/s]"
      ]
     },
     "metadata": {},
     "output_type": "display_data"
    },
    {
     "data": {
      "application/vnd.jupyter.widget-view+json": {
       "model_id": "",
       "version_major": 2,
       "version_minor": 0
      },
      "text/plain": [
       "Validation: 0it [00:00, ?it/s]"
      ]
     },
     "metadata": {},
     "output_type": "display_data"
    },
    {
     "data": {
      "application/vnd.jupyter.widget-view+json": {
       "model_id": "",
       "version_major": 2,
       "version_minor": 0
      },
      "text/plain": [
       "Validation: 0it [00:00, ?it/s]"
      ]
     },
     "metadata": {},
     "output_type": "display_data"
    },
    {
     "data": {
      "application/vnd.jupyter.widget-view+json": {
       "model_id": "",
       "version_major": 2,
       "version_minor": 0
      },
      "text/plain": [
       "Validation: 0it [00:00, ?it/s]"
      ]
     },
     "metadata": {},
     "output_type": "display_data"
    },
    {
     "data": {
      "application/vnd.jupyter.widget-view+json": {
       "model_id": "",
       "version_major": 2,
       "version_minor": 0
      },
      "text/plain": [
       "Validation: 0it [00:00, ?it/s]"
      ]
     },
     "metadata": {},
     "output_type": "display_data"
    },
    {
     "data": {
      "application/vnd.jupyter.widget-view+json": {
       "model_id": "",
       "version_major": 2,
       "version_minor": 0
      },
      "text/plain": [
       "Validation: 0it [00:00, ?it/s]"
      ]
     },
     "metadata": {},
     "output_type": "display_data"
    },
    {
     "data": {
      "application/vnd.jupyter.widget-view+json": {
       "model_id": "",
       "version_major": 2,
       "version_minor": 0
      },
      "text/plain": [
       "Validation: 0it [00:00, ?it/s]"
      ]
     },
     "metadata": {},
     "output_type": "display_data"
    },
    {
     "data": {
      "application/vnd.jupyter.widget-view+json": {
       "model_id": "",
       "version_major": 2,
       "version_minor": 0
      },
      "text/plain": [
       "Validation: 0it [00:00, ?it/s]"
      ]
     },
     "metadata": {},
     "output_type": "display_data"
    },
    {
     "data": {
      "application/vnd.jupyter.widget-view+json": {
       "model_id": "",
       "version_major": 2,
       "version_minor": 0
      },
      "text/plain": [
       "Validation: 0it [00:00, ?it/s]"
      ]
     },
     "metadata": {},
     "output_type": "display_data"
    },
    {
     "name": "stderr",
     "output_type": "stream",
     "text": [
      "`Trainer.fit` stopped: `max_epochs=10` reached.\n"
     ]
    }
   ],
   "source": [
    "model = ImageClassifier(learning_rate=1e-4)\n",
    "trainer = pl.Trainer(\n",
    "    max_epochs=10,\n",
    "    log_every_n_steps=-1,\n",
    "    gpus=-1\n",
    ")\n",
    "trainer.fit(model, train_loader, val_loader)\n",
    "trainer.save_checkpoint(\"model.ckpt\")"
   ]
  },
  {
   "cell_type": "code",
   "execution_count": 32,
   "id": "ed13282d",
   "metadata": {},
   "outputs": [],
   "source": [
    "import tqdm.auto as tqdm\n",
    "\n",
    "def evaluate_model_val(model, loader):\n",
    "    model.eval()\n",
    "    predictions = []\n",
    "    labels = []\n",
    "    with torch.no_grad():\n",
    "        for x, y in tqdm.tqdm(loader):\n",
    "            prediction = model.predict(x.to(model.device)).cpu().numpy()\n",
    "            predictions += list(prediction)\n",
    "            labels += list(y.numpy())\n",
    "    return labels, predictions"
   ]
  },
  {
   "cell_type": "code",
   "execution_count": 38,
   "id": "426b8dcc",
   "metadata": {},
   "outputs": [
    {
     "data": {
      "application/vnd.jupyter.widget-view+json": {
       "model_id": "0d9bec28aebf46219e763acbc4c3b81f",
       "version_major": 2,
       "version_minor": 0
      },
      "text/plain": [
       "  0%|          | 0/66 [00:00<?, ?it/s]"
      ]
     },
     "metadata": {},
     "output_type": "display_data"
    }
   ],
   "source": [
    "val_loader = torch.utils.data.DataLoader(val_split, batch_size=32, num_workers=0, shuffle=False)\n",
    "labels, predictions = evaluate_model_val(model, val_loader)"
   ]
  },
  {
   "cell_type": "code",
   "execution_count": 39,
   "id": "94e3a46e",
   "metadata": {},
   "outputs": [
    {
     "name": "stdout",
     "output_type": "stream",
     "text": [
      "Dummy Baseline accuracy:  0.8588346755092373\n",
      "Baseline accuracy:  0.9791567977261961\n"
     ]
    }
   ],
   "source": [
    "print(\"Dummy Baseline accuracy: \", np.mean(0 == np.array(labels)))\n",
    "print(\"Baseline accuracy: \", np.mean(np.array(predictions) == np.array(labels)))"
   ]
  }
 ],
 "metadata": {
  "kernelspec": {
   "display_name": "Python 3 (ipykernel)",
   "language": "python",
   "name": "python3"
  },
  "language_info": {
   "codemirror_mode": {
    "name": "ipython",
    "version": 3
   },
   "file_extension": ".py",
   "mimetype": "text/x-python",
   "name": "python",
   "nbconvert_exporter": "python",
   "pygments_lexer": "ipython3",
   "version": "3.8.13"
  }
 },
 "nbformat": 4,
 "nbformat_minor": 5
}

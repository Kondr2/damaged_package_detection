{
 "cells": [
  {
   "cell_type": "code",
   "execution_count": null,
   "id": "e7ae9493",
   "metadata": {},
   "outputs": [],
   "source": [
    "import cv2\n",
    "import matplotlib.pyplot as plt\n",
    "import numpy as np\n",
    "import os\n",
    "import pandas as pd\n",
    "import requests\n",
    "import ipywidgets as widgets\n",
    "from IPython.display import display\n",
    "from IPython.display import clear_output"
   ]
  },
  {
   "cell_type": "code",
   "execution_count": null,
   "id": "6a177541",
   "metadata": {},
   "outputs": [],
   "source": [
    "SUGGESTED = 'suggested_is_touched'"
   ]
  },
  {
   "cell_type": "code",
   "execution_count": null,
   "id": "576825e9",
   "metadata": {},
   "outputs": [],
   "source": [
    "TOLOKA_PATH = 'data/toloka/'"
   ]
  },
  {
   "cell_type": "code",
   "execution_count": null,
   "id": "d0713df2",
   "metadata": {},
   "outputs": [],
   "source": [
    "data = pd.read_csv(os.path.join(TOLOKA_PATH, 'toloka.tsv'), delimiter='\\t', index_col='id')\n",
    "data[SUGGESTED] = str(np.nan)"
   ]
  },
  {
   "cell_type": "code",
   "execution_count": null,
   "id": "33037887",
   "metadata": {},
   "outputs": [],
   "source": [
    "row_ids = data.index\n",
    "\n",
    "def print_img(url, dpi=170):\n",
    "    image = cv2.imdecode(np.asarray(bytearray(requests.get(url).content), dtype=\"uint8\"), cv2.IMREAD_COLOR)\n",
    "    plt.imshow(image)\n",
    "    plt.rcParams['figure.dpi'] = dpi\n",
    "    plt.show()\n",
    "\n",
    "def evaluate():\n",
    "    out_text = widgets.Output(layout={'border': '1px solid black'})\n",
    "    out_img = widgets.Output(layout={'border': '1px solid black'})\n",
    "    def update_text(idx):\n",
    "        with out_text:\n",
    "            clear_output(wait=True)\n",
    "            print(f'Current id: {row_ids[idx]}')\n",
    "            print(f'Is touched: {data.iloc[row_ids[idx]][SUGGESTED]}')\n",
    "    def display_current(idx):\n",
    "        update_text(idx)\n",
    "        with out_img:\n",
    "            clear_output(wait=True)\n",
    "            print_img(data.iloc[row_ids[idx]]['image_url'])\n",
    "            \n",
    "    idx = 0\n",
    "    def clicked_prev(_):\n",
    "        nonlocal idx\n",
    "        if idx > 0:\n",
    "            idx -= 1\n",
    "        display_current(idx)\n",
    "    def clicked_next(_):\n",
    "        nonlocal idx\n",
    "        if idx < len(data)-1:\n",
    "            idx += 1\n",
    "        display_current(idx)\n",
    "    def clicked_touched(_):\n",
    "        data.at[row_ids[idx], SUGGESTED] = 'touched'\n",
    "        update_text(idx)\n",
    "    def clicked_not_touched(_):\n",
    "        data.at[row_ids[idx], SUGGESTED] = 'not_touched'\n",
    "        update_text(idx)\n",
    "    \n",
    "\n",
    "    button_touched = widgets.Button(description = 'Touched')\n",
    "    button_touched.on_click(clicked_touched)\n",
    "    button_not_touched = widgets.Button(description = 'Not Touched')\n",
    "    button_not_touched.on_click(clicked_not_touched)\n",
    "    button_prev = widgets.Button(description = 'Previous')\n",
    "    button_prev.on_click(clicked_prev)\n",
    "    button_next = widgets.Button(description = 'Next')\n",
    "    button_next.on_click(clicked_next)\n",
    "    buttons = widgets.VBox([button_prev, button_touched, button_not_touched, button_next])\n",
    "    out = widgets.VBox([out_text, out_img])\n",
    "    box = widgets.HBox([out, buttons])\n",
    "    display(box)\n",
    "    display_current(0)"
   ]
  },
  {
   "cell_type": "code",
   "execution_count": null,
   "id": "55211787",
   "metadata": {},
   "outputs": [],
   "source": [
    "evaluate()"
   ]
  },
  {
   "cell_type": "code",
   "execution_count": null,
   "id": "e584d5c3",
   "metadata": {},
   "outputs": [],
   "source": [
    "assert str(np.nan) not in data[SUGGESTED].unique(), f\"{sum(data[SUGGESTED] == str(np.nan))} NaN values still left!\""
   ]
  },
  {
   "cell_type": "code",
   "execution_count": null,
   "id": "7ce0350f",
   "metadata": {},
   "outputs": [],
   "source": [
    "data[SUGGESTED].to_csv('suggested.csv')"
   ]
  }
 ],
 "metadata": {
  "kernelspec": {
   "display_name": "Python 3 (ipykernel)",
   "language": "python",
   "name": "python3"
  },
  "language_info": {
   "codemirror_mode": {
    "name": "ipython",
    "version": 3
   },
   "file_extension": ".py",
   "mimetype": "text/x-python",
   "name": "python",
   "nbconvert_exporter": "python",
   "pygments_lexer": "ipython3",
   "version": "3.7.5"
  }
 },
 "nbformat": 4,
 "nbformat_minor": 5
}
